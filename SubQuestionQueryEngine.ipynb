{
 "cells": [
  {
   "cell_type": "code",
   "execution_count": 128,
   "id": "6c482a22-6d16-49c0-8c0a-2553001459af",
   "metadata": {},
   "outputs": [],
   "source": [
    "#https://docs.llamaindex.ai/en/stable/examples/usecases/10q_sub_question/\n",
    "import nest_asyncio\n",
    "\n",
    "nest_asyncio.apply()"
   ]
  },
  {
   "cell_type": "code",
   "execution_count": 129,
   "id": "86ea9364-0539-4bdc-acde-15f3793d7cb9",
   "metadata": {},
   "outputs": [],
   "source": [
    "from llama_index.core import SimpleDirectoryReader, VectorStoreIndex\n",
    "from llama_index.core.response.pprint_utils import pprint_response\n",
    "from llama_index.llms.openai import OpenAI\n",
    "\n",
    "from llama_index.core.tools import QueryEngineTool, ToolMetadata\n",
    "from llama_index.core.query_engine import SubQuestionQueryEngine"
   ]
  },
  {
   "cell_type": "code",
   "execution_count": 130,
   "id": "e7b0cddd-e9c8-415d-8d95-7b5c77987f33",
   "metadata": {},
   "outputs": [],
   "source": [
    "import os\n",
    "import re\n",
    "\n",
    "os.environ[\"OPENAI_API_KEY\"] = \"sk-proj-Q0eWC0bJfIIaLkIGOaHOT3BlbkFJcAPgSc2VZCGKEPVJVtzI\""
   ]
  },
  {
   "cell_type": "code",
   "execution_count": 131,
   "id": "9744b906-a908-4b6d-b60a-cd751090251a",
   "metadata": {},
   "outputs": [],
   "source": [
    "from llama_index.core import Settings\n",
    "\n",
    "# Settings.llm = OpenAI(temperature=0.2, model=\"gpt-3.5-turbo\")\n",
    "Settings.llm = OpenAI(temperature=0.2, model=\"gpt-4o\")"
   ]
  },
  {
   "cell_type": "code",
   "execution_count": 132,
   "id": "1dc56055-0e4f-47c9-ab54-57193702035a",
   "metadata": {},
   "outputs": [
    {
     "data": {
      "text/plain": [
       "['./data\\\\Market Report_02 May 2024.pdf',\n",
       " './data\\\\Market Report_03 May 2024.pdf',\n",
       " './data\\\\Market Report_06 May 2024.pdf',\n",
       " './data\\\\Market Report_07 May 2024.pdf',\n",
       " './data\\\\Market Report_08 May 2024.pdf',\n",
       " './data\\\\Market Report_09 May 2024.pdf',\n",
       " './data\\\\Market Report_10 May 2024.pdf',\n",
       " './data\\\\Market Report_13 May 2024.pdf',\n",
       " './data\\\\Market Report_14 May 2024.pdf',\n",
       " './data\\\\Market Report_15 May 2024.pdf',\n",
       " './data\\\\Market Report_16 May 2024.pdf',\n",
       " './data\\\\Market Report_17 May 2024.pdf',\n",
       " './data\\\\Market Report_20 May 2024.pdf',\n",
       " './data\\\\Market Report_21 May 2024.pdf']"
      ]
     },
     "execution_count": 132,
     "metadata": {},
     "output_type": "execute_result"
    }
   ],
   "source": [
    "import os\n",
    "import glob\n",
    "import ast\n",
    "\n",
    "# Define the folder containing the PDF files\n",
    "data_folder = './data/'\n",
    "\n",
    "# Use glob to find all PDF files in the folder\n",
    "pdf_files = glob.glob(os.path.join(data_folder, '*.pdf'))\n",
    "pdf_files"
   ]
  },
  {
   "cell_type": "code",
   "execution_count": 133,
   "id": "2fc96d03-d3b6-4feb-bb75-d51566b2f809",
   "metadata": {},
   "outputs": [
    {
     "name": "stdout",
     "output_type": "stream",
     "text": [
      "['02 May 2024', '03 May 2024', '06 May 2024', '07 May 2024', '08 May 2024', '09 May 2024', '10 May 2024', '13 May 2024', '14 May 2024', '15 May 2024', '16 May 2024', '17 May 2024', '20 May 2024', '21 May 2024']\n",
      "14\n"
     ]
    }
   ],
   "source": [
    "dates = [filename.split('_')[-1].split('.')[0] for filename in pdf_files]\n",
    "# print(dates)\n",
    "\n",
    "print(dates)\n",
    "print(len(dates))"
   ]
  },
  {
   "cell_type": "code",
   "execution_count": 134,
   "id": "b9867ef2-237c-4380-9e69-ba535ab37ef1",
   "metadata": {},
   "outputs": [],
   "source": [
    "data_process = [SimpleDirectoryReader(input_files=[xx]).load_data() for xx in pdf_files]"
   ]
  },
  {
   "cell_type": "code",
   "execution_count": 135,
   "id": "89e6bf21-f662-4dd1-8f5a-4d345a731d51",
   "metadata": {},
   "outputs": [],
   "source": [
    "data_index = [VectorStoreIndex.from_documents(data_process[i]) for i in range(len(data_process))]"
   ]
  },
  {
   "cell_type": "code",
   "execution_count": 136,
   "id": "40e08441-a44e-4bb2-8d92-74d25a49a3eb",
   "metadata": {},
   "outputs": [],
   "source": [
    "data_engine= [data_index[i].as_query_engine(similarity_top_k=3) for i in range(len(data_process))]"
   ]
  },
  {
   "cell_type": "code",
   "execution_count": 137,
   "id": "0c69b3d3-21ee-4499-80d0-c146194ba59f",
   "metadata": {},
   "outputs": [
    {
     "data": {
      "text/plain": [
       "14"
      ]
     },
     "execution_count": 137,
     "metadata": {},
     "output_type": "execute_result"
    }
   ],
   "source": [
    "len(data_process)"
   ]
  },
  {
   "cell_type": "code",
   "execution_count": 138,
   "id": "d6b59730-30fc-40d1-9dc2-2e890192744b",
   "metadata": {},
   "outputs": [],
   "source": [
    "query_engine_tools = [\n",
    "    QueryEngineTool(\n",
    "        query_engine=data_engine[i],\n",
    "        metadata=ToolMetadata(\n",
    "            name=dates[i],\n",
    "            description=(\n",
    "                \"Provides information about stock market on\" + dates[i]\n",
    "            ),\n",
    "        ),\n",
    "    ) for i in range(len(data_process))]"
   ]
  },
  {
   "cell_type": "code",
   "execution_count": 139,
   "id": "091ca2a2-de6d-45e5-8a38-2db9baf4069e",
   "metadata": {},
   "outputs": [],
   "source": [
    "s_engine = SubQuestionQueryEngine.from_defaults(\n",
    "    query_engine_tools=query_engine_tools\n",
    ")"
   ]
  },
  {
   "cell_type": "code",
   "execution_count": 140,
   "id": "b4ad6dd1-ad6c-48c0-80ae-f5cf9c6db14f",
   "metadata": {},
   "outputs": [],
   "source": [
    "# response = s_engine.query(\n",
    "#     \"what are the price of crdb shares for all dates\"\n",
    "# )"
   ]
  },
  {
   "cell_type": "code",
   "execution_count": 141,
   "id": "e566fe9c-19e1-41a8-815f-69d0b608d147",
   "metadata": {},
   "outputs": [],
   "source": [
    "# print(response)"
   ]
  },
  {
   "cell_type": "code",
   "execution_count": 170,
   "id": "3b85a28b-171e-4d13-a7db-6fa261aed2ad",
   "metadata": {},
   "outputs": [
    {
     "name": "stdout",
     "output_type": "stream",
     "text": [
      "Generated 14 sub questions.\n",
      "\u001b[1;3;38;2;237;90;200m[02 May 2024] Q: What is the bid price of CRDB shares on 02 May 2024?\n",
      "\u001b[0m\u001b[1;3;38;2;90;149;237m[03 May 2024] Q: What is the bid price of CRDB shares on 03 May 2024?\n",
      "\u001b[0m\u001b[1;3;38;2;11;159;203m[06 May 2024] Q: What is the bid price of CRDB shares on 06 May 2024?\n",
      "\u001b[0m\u001b[1;3;38;2;155;135;227m[07 May 2024] Q: What is the bid price of CRDB shares on 07 May 2024?\n",
      "\u001b[0m\u001b[1;3;38;2;237;90;200m[08 May 2024] Q: What is the bid price of CRDB shares on 08 May 2024?\n",
      "\u001b[0m\u001b[1;3;38;2;90;149;237m[09 May 2024] Q: What is the bid price of CRDB shares on 09 May 2024?\n",
      "\u001b[0m\u001b[1;3;38;2;11;159;203m[10 May 2024] Q: What is the bid price of CRDB shares on 10 May 2024?\n",
      "\u001b[0m\u001b[1;3;38;2;155;135;227m[13 May 2024] Q: What is the bid price of CRDB shares on 13 May 2024?\n",
      "\u001b[0m\u001b[1;3;38;2;237;90;200m[14 May 2024] Q: What is the bid price of CRDB shares on 14 May 2024?\n",
      "\u001b[0m\u001b[1;3;38;2;90;149;237m[15 May 2024] Q: What is the bid price of CRDB shares on 15 May 2024?\n",
      "\u001b[0m\u001b[1;3;38;2;11;159;203m[16 May 2024] Q: What is the bid price of CRDB shares on 16 May 2024?\n",
      "\u001b[0m\u001b[1;3;38;2;155;135;227m[17 May 2024] Q: What is the bid price of CRDB shares on 17 May 2024?\n",
      "\u001b[0m\u001b[1;3;38;2;237;90;200m[20 May 2024] Q: What is the bid price of CRDB shares on 20 May 2024?\n",
      "\u001b[0m\u001b[1;3;38;2;90;149;237m[21 May 2024] Q: What is the bid price of CRDB shares on 21 May 2024?\n",
      "\u001b[0m\u001b[1;3;38;2;90;149;237m[15 May 2024] A: There is no bid price for CRDB shares on 15 May 2024.\n",
      "\u001b[0m\u001b[1;3;38;2;237;90;200m[02 May 2024] A: The bid price of CRDB shares on 02 May 2024 is TZS 550.\n",
      "\u001b[0m\u001b[1;3;38;2;155;135;227m[17 May 2024] A: The bid price of CRDB shares on 17 May 2024 is TZS 490.\n",
      "\u001b[0m\u001b[1;3;38;2;155;135;227m[13 May 2024] A: There is no bid price for CRDB shares on 13 May 2024.\n",
      "\u001b[0m\u001b[1;3;38;2;11;159;203m[10 May 2024] A: There is no bid price for CRDB shares on 10 May 2024.\n",
      "\u001b[0m\u001b[1;3;38;2;11;159;203m[16 May 2024] A: The bid price of CRDB shares on 16 May 2024 is TZS 480.\n",
      "\u001b[0m\u001b[1;3;38;2;155;135;227m[07 May 2024] A: The bid price of CRDB shares on 07 May 2024 is TZS 550.\n",
      "\u001b[0m\u001b[1;3;38;2;90;149;237m[21 May 2024] A: The bid price of CRDB shares on 21 May 2024 is TZS 480.\n",
      "\u001b[0m\u001b[1;3;38;2;90;149;237m[09 May 2024] A: There is no bid price for CRDB shares on 09 May 2024.\n",
      "\u001b[0m\u001b[1;3;38;2;237;90;200m[20 May 2024] A: The bid price of CRDB shares on 20 May 2024 is TZS 480.\n",
      "\u001b[0m\u001b[1;3;38;2;237;90;200m[08 May 2024] A: There is no bid price listed for CRDB shares on 08 May 2024.\n",
      "\u001b[0m\u001b[1;3;38;2;11;159;203m[06 May 2024] A: The bid price of CRDB shares on 06 May 2024 is TZS 550.\n",
      "\u001b[0m\u001b[1;3;38;2;90;149;237m[03 May 2024] A: The bid price of CRDB shares on 03 May 2024 is TZS 550.\n",
      "\u001b[0m\u001b[1;3;38;2;237;90;200m[14 May 2024] A: There is no bid price listed for CRDB shares on 14 May 2024.\n",
      "\u001b[0m"
     ]
    }
   ],
   "source": [
    "response1 = s_engine.query(\n",
    "    \"what are the bids price of crdb shares for all dates output only in dict format of {'date':date, 'price':price}\"\n",
    ")"
   ]
  },
  {
   "cell_type": "code",
   "execution_count": 171,
   "id": "2903b8ff-b44f-4ed6-bab9-b86c7843a9bc",
   "metadata": {},
   "outputs": [
    {
     "name": "stdout",
     "output_type": "stream",
     "text": [
      "```python\n",
      "[\n",
      "    {'date': '02 May 2024', 'price': 550},\n",
      "    {'date': '03 May 2024', 'price': 550},\n",
      "    {'date': '06 May 2024', 'price': 550},\n",
      "    {'date': '07 May 2024', 'price': 550},\n",
      "    {'date': '08 May 2024', 'price': None},\n",
      "    {'date': '09 May 2024', 'price': None},\n",
      "    {'date': '10 May 2024', 'price': None},\n",
      "    {'date': '13 May 2024', 'price': None},\n",
      "    {'date': '14 May 2024', 'price': None},\n",
      "    {'date': '15 May 2024', 'price': None},\n",
      "    {'date': '16 May 2024', 'price': 480},\n",
      "    {'date': '17 May 2024', 'price': 490},\n",
      "    {'date': '20 May 2024', 'price': 480},\n",
      "    {'date': '21 May 2024', 'price': 480}\n",
      "]\n",
      "```\n"
     ]
    }
   ],
   "source": [
    "print(response1)"
   ]
  },
  {
   "cell_type": "code",
   "execution_count": 176,
   "id": "0211ce6a-2b78-4bb3-baee-4aec74c12cb1",
   "metadata": {},
   "outputs": [
    {
     "data": {
      "text/plain": [
       "[{'date': '02 May 2024', 'price': 550},\n",
       " {'date': '03 May 2024', 'price': 550},\n",
       " {'date': '06 May 2024', 'price': 550},\n",
       " {'date': '07 May 2024', 'price': 550},\n",
       " {'date': '08 May 2024', 'price': None},\n",
       " {'date': '09 May 2024', 'price': None},\n",
       " {'date': '10 May 2024', 'price': None},\n",
       " {'date': '13 May 2024', 'price': None},\n",
       " {'date': '14 May 2024', 'price': None},\n",
       " {'date': '15 May 2024', 'price': None},\n",
       " {'date': '16 May 2024', 'price': 480},\n",
       " {'date': '17 May 2024', 'price': 490},\n",
       " {'date': '20 May 2024', 'price': 480},\n",
       " {'date': '21 May 2024', 'price': 480}]"
      ]
     },
     "execution_count": 176,
     "metadata": {},
     "output_type": "execute_result"
    }
   ],
   "source": [
    "# Extracting the part that contains the list of dictionaries\n",
    "start_index = response1.response.find(\"[\")\n",
    "end_index = response1.response.find(\"]\\n```\") + 1\n",
    "data_string = response1.response[start_index:end_index]\n",
    "\n",
    "# Converting the string representation of the list into an actual list\n",
    "data_list = ast.literal_eval(data_string)\n",
    "data_list\n"
   ]
  },
  {
   "cell_type": "code",
   "execution_count": 177,
   "id": "b44cedfd-6948-47e8-b316-fa27559ef869",
   "metadata": {},
   "outputs": [],
   "source": [
    "import matplotlib.pyplot as plt\n",
    "from datetime import datetime\n",
    "import pandas as pd"
   ]
  },
  {
   "cell_type": "code",
   "execution_count": 178,
   "id": "c70b7bc1-0f96-42ce-ad27-f7f19259322b",
   "metadata": {},
   "outputs": [],
   "source": [
    "# load the actual data \n",
    "df = pd.read_csv('actual_data_bid.csv')\n",
    "# Convert the 'date' column to datetime\n",
    "df['date'] = pd.to_datetime(df['date'], format='%d-%b-%y')\n",
    "# df"
   ]
  },
  {
   "cell_type": "code",
   "execution_count": 181,
   "id": "4b2b5f93-20e5-4df4-9199-16344625117f",
   "metadata": {},
   "outputs": [
    {
     "data": {
      "image/png": "[encoded data removed]",
      "text/plain": [
       "<Figure size 1000x500 with 1 Axes>"
      ]
     },
     "metadata": {},
     "output_type": "display_data"
    }
   ],
   "source": [
    "# Extract dates and prices\n",
    "dates = [datetime.strptime(item['date'], '%d %B %Y') for item in data_list]\n",
    "prices = [item['price'] for item in data_list]\n",
    "\n",
    "# Sort data by date\n",
    "sorted_data = sorted(zip(dates, prices), key=lambda x: x[0])\n",
    "sorted_dates, sorted_prices = zip(*sorted_data)\n",
    "\n",
    "# Plot\n",
    "plt.figure(figsize=(10, 5))\n",
    "scatter1 = plt.scatter(sorted_dates, sorted_prices, color='b', s=100, label='SubQuestionQueryEngine')\n",
    "scatter2= plt.scatter(df['date'], df['price'], color='r', label='Actual Data')\n",
    "\n",
    "# Add legend\n",
    "plt.legend(handles=[scatter1, scatter2])\n",
    "\n",
    "plt.xlabel('Date')\n",
    "plt.ylabel('Price')\n",
    "plt.title('Stock Prices Bids Over Time')\n",
    "plt.xticks(rotation=45)\n",
    "plt.grid(True)\n",
    "plt.tight_layout()\n",
    "plt.show()"
   ]
  },
  {
   "cell_type": "code",
   "execution_count": null,
   "id": "b699ff7e-2035-4407-963a-f2465b111667",
   "metadata": {},
   "outputs": [],
   "source": []
  },
  {
   "cell_type": "code",
   "execution_count": null,
   "id": "e44f944f-d489-4e5e-a18c-ecf134d0655d",
   "metadata": {},
   "outputs": [],
   "source": []
  },
  {
   "cell_type": "code",
   "execution_count": 166,
   "id": "a6de04e0-45b0-4ec4-a5af-b3519d69988f",
   "metadata": {},
   "outputs": [
    {
     "name": "stdout",
     "output_type": "stream",
     "text": [
      "Generated 14 sub questions.\n",
      "\u001b[1;3;38;2;237;90;200m[02 May 2024] Q: What is the offer price of CRDB shares on 02 May 2024?\n",
      "\u001b[0m\u001b[1;3;38;2;90;149;237m[03 May 2024] Q: What is the offer price of CRDB shares on 03 May 2024?\n",
      "\u001b[0m\u001b[1;3;38;2;11;159;203m[06 May 2024] Q: What is the offer price of CRDB shares on 06 May 2024?\n",
      "\u001b[0m\u001b[1;3;38;2;155;135;227m[07 May 2024] Q: What is the offer price of CRDB shares on 07 May 2024?\n",
      "\u001b[0m\u001b[1;3;38;2;237;90;200m[08 May 2024] Q: What is the offer price of CRDB shares on 08 May 2024?\n",
      "\u001b[0m\u001b[1;3;38;2;90;149;237m[09 May 2024] Q: What is the offer price of CRDB shares on 09 May 2024?\n",
      "\u001b[0m\u001b[1;3;38;2;11;159;203m[10 May 2024] Q: What is the offer price of CRDB shares on 10 May 2024?\n",
      "\u001b[0m\u001b[1;3;38;2;155;135;227m[13 May 2024] Q: What is the offer price of CRDB shares on 13 May 2024?\n",
      "\u001b[0m\u001b[1;3;38;2;237;90;200m[14 May 2024] Q: What is the offer price of CRDB shares on 14 May 2024?\n",
      "\u001b[0m\u001b[1;3;38;2;90;149;237m[15 May 2024] Q: What is the offer price of CRDB shares on 15 May 2024?\n",
      "\u001b[0m\u001b[1;3;38;2;11;159;203m[16 May 2024] Q: What is the offer price of CRDB shares on 16 May 2024?\n",
      "\u001b[0m\u001b[1;3;38;2;155;135;227m[17 May 2024] Q: What is the offer price of CRDB shares on 17 May 2024?\n",
      "\u001b[0m\u001b[1;3;38;2;237;90;200m[20 May 2024] Q: What is the offer price of CRDB shares on 20 May 2024?\n",
      "\u001b[0m\u001b[1;3;38;2;90;149;237m[21 May 2024] Q: What is the offer price of CRDB shares on 21 May 2024?\n",
      "\u001b[0m\u001b[1;3;38;2;155;135;227m[07 May 2024] A: The offer price of CRDB shares on 07 May 2024 is TZS 560.\n",
      "\u001b[0m\u001b[1;3;38;2;155;135;227m[13 May 2024] A: The offer price of CRDB shares on 13 May 2024 is TZS 540.\n",
      "\u001b[0m\u001b[1;3;38;2;237;90;200m[20 May 2024] A: The offer price of CRDB shares on 20 May 2024 is TZS 490.\n",
      "\u001b[0m\u001b[1;3;38;2;237;90;200m[02 May 2024] A: The offer price of CRDB shares on 02 May 2024 is TZS 560.\n",
      "\u001b[0m\u001b[1;3;38;2;237;90;200m[14 May 2024] A: The offer price of CRDB shares on 14 May 2024 is TZS 520.\n",
      "\u001b[0m\u001b[1;3;38;2;237;90;200m[08 May 2024] A: The offer price of CRDB shares on 08 May 2024 is TZS 540.\n",
      "\u001b[0m\u001b[1;3;38;2;11;159;203m[10 May 2024] A: The offer price of CRDB shares on 10 May 2024 is TZS 540.\n",
      "\u001b[0m\u001b[1;3;38;2;11;159;203m[16 May 2024] A: The offer price of CRDB shares on 16 May 2024 is TZS 490.\n",
      "\u001b[0m\u001b[1;3;38;2;90;149;237m[09 May 2024] A: The offer price of CRDB shares on 09 May 2024 is TZS 540.\n",
      "\u001b[0m\u001b[1;3;38;2;90;149;237m[15 May 2024] A: The offer price of CRDB shares on 15 May 2024 is TZS 500.\n",
      "\u001b[0m\u001b[1;3;38;2;90;149;237m[03 May 2024] A: The offer price of CRDB shares on 03 May 2024 is TZS 560.\n",
      "\u001b[0m\u001b[1;3;38;2;11;159;203m[06 May 2024] A: The offer price of CRDB shares on 06 May 2024 is TZS 560.\n",
      "\u001b[0m\u001b[1;3;38;2;90;149;237m[21 May 2024] A: The offer price of CRDB shares on 21 May 2024 is TZS 490.\n",
      "\u001b[0m\u001b[1;3;38;2;155;135;227m[17 May 2024] A: The offer price of CRDB shares on 17 May 2024 is TZS 500.\n",
      "\u001b[0m"
     ]
    }
   ],
   "source": [
    "response = s_engine.query(\n",
    "    \"what are the offers price of crdb shares for all dates output only in dict format of {'date':date, 'price':price}\"\n",
    ")"
   ]
  },
  {
   "cell_type": "code",
   "execution_count": 182,
   "id": "a7b13707-6446-488b-8966-4cfe268805f2",
   "metadata": {},
   "outputs": [
    {
     "name": "stdout",
     "output_type": "stream",
     "text": [
      "```python\n",
      "[\n",
      "    {'date': '02 May 2024', 'price': 560},\n",
      "    {'date': '03 May 2024', 'price': 560},\n",
      "    {'date': '06 May 2024', 'price': 560},\n",
      "    {'date': '07 May 2024', 'price': 560},\n",
      "    {'date': '08 May 2024', 'price': 540},\n",
      "    {'date': '09 May 2024', 'price': 540},\n",
      "    {'date': '10 May 2024', 'price': 540},\n",
      "    {'date': '13 May 2024', 'price': 540},\n",
      "    {'date': '14 May 2024', 'price': 520},\n",
      "    {'date': '15 May 2024', 'price': 500},\n",
      "    {'date': '16 May 2024', 'price': 490},\n",
      "    {'date': '17 May 2024', 'price': 500},\n",
      "    {'date': '20 May 2024', 'price': 490},\n",
      "    {'date': '21 May 2024', 'price': 490}\n",
      "]\n",
      "```\n"
     ]
    }
   ],
   "source": [
    "print(response)"
   ]
  },
  {
   "cell_type": "code",
   "execution_count": 184,
   "id": "70c15766-1334-4716-bb8a-32c182372966",
   "metadata": {},
   "outputs": [
    {
     "data": {
      "text/plain": [
       "[{'date': '02 May 2024', 'price': 560},\n",
       " {'date': '03 May 2024', 'price': 560},\n",
       " {'date': '06 May 2024', 'price': 560},\n",
       " {'date': '07 May 2024', 'price': 560},\n",
       " {'date': '08 May 2024', 'price': 540},\n",
       " {'date': '09 May 2024', 'price': 540},\n",
       " {'date': '10 May 2024', 'price': 540},\n",
       " {'date': '13 May 2024', 'price': 540},\n",
       " {'date': '14 May 2024', 'price': 520},\n",
       " {'date': '15 May 2024', 'price': 500},\n",
       " {'date': '16 May 2024', 'price': 490},\n",
       " {'date': '17 May 2024', 'price': 500},\n",
       " {'date': '20 May 2024', 'price': 490},\n",
       " {'date': '21 May 2024', 'price': 490}]"
      ]
     },
     "execution_count": 184,
     "metadata": {},
     "output_type": "execute_result"
    }
   ],
   "source": [
    "# Extracting the part that contains the list of dictionaries\n",
    "start_index = response.response.find(\"[\")\n",
    "end_index = response.response.find(\"]\\n```\") + 1\n",
    "data_string = response.response[start_index:end_index]\n",
    "\n",
    "# Converting the string representation of the list into an actual list\n",
    "data_list = ast.literal_eval(data_string)\n",
    "data_list"
   ]
  },
  {
   "cell_type": "code",
   "execution_count": 190,
   "id": "1c538c60-fe18-4e34-a65b-cbfcbd0069e0",
   "metadata": {},
   "outputs": [],
   "source": [
    "# load the actual data \n",
    "df = pd.read_csv('actual_data_offer.csv')\n",
    "# Convert the 'date' column to datetime\n",
    "df['date'] = pd.to_datetime(df['date'], format='%d-%b-%y')\n",
    "# df"
   ]
  },
  {
   "cell_type": "code",
   "execution_count": 189,
   "id": "43dace1f-e213-4fa2-92c9-c89056570612",
   "metadata": {},
   "outputs": [
    {
     "data": {
      "image/png": "[encoded data removed]",
      "text/plain": [
       "<Figure size 1000x500 with 1 Axes>"
      ]
     },
     "metadata": {},
     "output_type": "display_data"
    }
   ],
   "source": [
    "# Extract dates and prices\n",
    "dates = [datetime.strptime(item['date'], '%d %B %Y') for item in data_list]\n",
    "prices = [item['price'] for item in data_list]\n",
    "\n",
    "# Sort data by date\n",
    "sorted_data = sorted(zip(dates, prices), key=lambda x: x[0])\n",
    "sorted_dates, sorted_prices = zip(*sorted_data)\n",
    "\n",
    "# Plot\n",
    "plt.figure(figsize=(10, 5))\n",
    "scatter1 = plt.scatter(sorted_dates, sorted_prices, color='b', s=100, label='SubQuestionQueryEngine')\n",
    "scatter2= plt.scatter(df['date'], df['price'], color='r', label='Actual Data offer')\n",
    "\n",
    "# Add legend\n",
    "plt.legend(handles=[scatter1, scatter2])\n",
    "\n",
    "plt.xlabel('Date')\n",
    "plt.ylabel('Price')\n",
    "plt.title('Stock Prices offer Over Time')\n",
    "plt.xticks(rotation=45)\n",
    "plt.grid(True)\n",
    "plt.tight_layout()\n",
    "plt.show()"
   ]
  },
  {
   "cell_type": "code",
   "execution_count": 150,
   "id": "6849b8b3-aca7-46d9-a741-767a8c848018",
   "metadata": {},
   "outputs": [],
   "source": []
  },
  {
   "cell_type": "code",
   "execution_count": 151,
   "id": "8f555825-e95c-4f1e-8f4a-c1d9663dbe2e",
   "metadata": {},
   "outputs": [],
   "source": []
  },
  {
   "cell_type": "code",
   "execution_count": 152,
   "id": "8febf5ff-710d-4db4-b78a-4be0d3d695b9",
   "metadata": {},
   "outputs": [],
   "source": []
  },
  {
   "cell_type": "code",
   "execution_count": null,
   "id": "3a0b46c5-75db-4b78-8cea-a1e85fa2ec63",
   "metadata": {},
   "outputs": [],
   "source": []
  }
 ],
 "metadata": {
  "kernelspec": {
   "display_name": "Python 3 (ipykernel)",
   "language": "python",
   "name": "python3"
  },
  "language_info": {
   "codemirror_mode": {
    "name": "ipython",
    "version": 3
   },
   "file_extension": ".py",
   "mimetype": "text/x-python",
   "name": "python",
   "nbconvert_exporter": "python",
   "pygments_lexer": "ipython3",
   "version": "3.10.13"
  }
 },
 "nbformat": 4,
 "nbformat_minor": 5
}
