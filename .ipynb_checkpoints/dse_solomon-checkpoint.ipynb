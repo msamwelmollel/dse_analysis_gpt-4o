{
 "cells": [
  {
   "cell_type": "code",
   "execution_count": 65,
   "id": "7c597892-db96-4a52-b77b-0258af7f0568",
   "metadata": {},
   "outputs": [],
   "source": [
    "# %pip install -U llama-index\n",
    "# %pip install -U llama-index-core\n",
    "# %pip install llama-index-embeddings-openai\n",
    "# %pip install llama-index-postprocessor-flag-embedding-reranker\n",
    "# %pip install git+https://github.com/FlagOpen/FlagEmbedding.git\n",
    "# %pip install -U llama-parse\n",
    "# %pip install -U llama-index-llms-llama-cpp\n",
    "# %pip install -U llama-index-core-llms\n",
    "# %pip install -U llama-index-embeddings-openai"
   ]
  },
  {
   "cell_type": "code",
   "execution_count": 66,
   "id": "f9841bd3-69da-4370-8bfe-c6412c256b76",
   "metadata": {},
   "outputs": [],
   "source": [
    "# llama-parse is async-first, running the async code in a notebook requires the use of nest_asyncio\n",
    "import nest_asyncio\n",
    "\n",
    "nest_asyncio.apply()\n",
    "\n",
    "import os\n",
    "\n",
    "# API access to llama-cloud\n",
    "os.environ[\"LLAMA_CLOUD_API_KEY\"] = \"llx-SyHQUKzf4guxK5aU1QnzURVVl4sbQ4pqX5QzFh7SXhytaj8N\"\n",
    "\n",
    "# Using OpenAI API for embeddings/llms\n",
    "os.environ[\"OPENAI_API_KEY\"] = \"sk-proj-Q0eWC0bJfIIaLkIGOaHOT3BlbkFJcAPgSc2VZCGKEPVJVtzI\""
   ]
  },
  {
   "cell_type": "code",
   "execution_count": 67,
   "id": "320c031f-aec4-49a0-8ac1-27cdcbc16991",
   "metadata": {},
   "outputs": [],
   "source": [
    "from llama_parse import LlamaParse\n",
    "\n",
    "parser_gpt4o = LlamaParse(\n",
    "    result_type=\"markdown\",\n",
    "    # api_key=api_key,\n",
    "    gpt4o_mode=True,\n",
    "    # gpt4o_api_key=\"<gpt4o_api_key>\"\n",
    ")"
   ]
  },
  {
   "cell_type": "code",
   "execution_count": 68,
   "id": "53a8920d-cb67-430a-8adf-9ce5e3f914e9",
   "metadata": {},
   "outputs": [
    {
     "data": {
      "text/plain": [
       "['./data\\\\Market Report_02 April 2024.pdf',\n",
       " './data\\\\Market Report_02 May 2024.pdf',\n",
       " './data\\\\Market Report_03 April 2024.pdf',\n",
       " './data\\\\Market Report_03 May 2024.pdf',\n",
       " './data\\\\Market Report_04 April 2024.pdf',\n",
       " './data\\\\Market Report_05 April 2024.pdf',\n",
       " './data\\\\Market Report_06 May 2024.pdf',\n",
       " './data\\\\Market Report_07 May 2024.pdf',\n",
       " './data\\\\Market Report_08 April 2024.pdf',\n",
       " './data\\\\Market Report_08 May 2024.pdf',\n",
       " './data\\\\Market Report_09 April 2024.pdf',\n",
       " './data\\\\Market Report_09 May 2024.pdf',\n",
       " './data\\\\Market Report_10 May 2024.pdf',\n",
       " './data\\\\Market Report_12 April 2024.pdf',\n",
       " './data\\\\Market Report_13 May 2024.pdf',\n",
       " './data\\\\Market Report_14 May 2024.pdf',\n",
       " './data\\\\Market Report_15 April 2024.pdf',\n",
       " './data\\\\Market Report_15 May 2024.pdf',\n",
       " './data\\\\Market Report_16 April 2024.pdf',\n",
       " './data\\\\Market Report_16 May 2024.pdf',\n",
       " './data\\\\Market Report_17 April 2024.pdf',\n",
       " './data\\\\Market Report_17 May 2024.pdf',\n",
       " './data\\\\Market Report_18 April 2024.pdf',\n",
       " './data\\\\Market Report_19 April 2024.pdf',\n",
       " './data\\\\Market Report_20 March  2024.pdf',\n",
       " './data\\\\Market Report_20 May 2024.pdf',\n",
       " './data\\\\Market Report_21 March  2024.pdf',\n",
       " './data\\\\Market Report_21 May 2024.pdf',\n",
       " './data\\\\Market Report_22 April 2024.pdf',\n",
       " './data\\\\Market Report_22 March  2024.pdf',\n",
       " './data\\\\Market Report_23 April 2024.pdf',\n",
       " './data\\\\Market Report_24 April 2024.pdf',\n",
       " './data\\\\Market Report_25 April 2024.pdf',\n",
       " './data\\\\Market Report_25 March  2024.pdf',\n",
       " './data\\\\Market Report_26 March  2024.pdf',\n",
       " './data\\\\Market Report_27 March  2024.pdf',\n",
       " './data\\\\Market Report_28 March  2024.pdf',\n",
       " './data\\\\Market Report_29 April 2024.pdf',\n",
       " './data\\\\Market Report_30 April 2024.pdf']"
      ]
     },
     "execution_count": 68,
     "metadata": {},
     "output_type": "execute_result"
    }
   ],
   "source": [
    "import os\n",
    "import glob\n",
    "\n",
    "# Define the folder containing the PDF files\n",
    "data_folder = './data/'\n",
    "\n",
    "# Use glob to find all PDF files in the folder\n",
    "pdf_files = glob.glob(os.path.join(data_folder, '*.pdf'))\n",
    "pdf_files"
   ]
  },
  {
   "cell_type": "code",
   "execution_count": 69,
   "id": "312a0803-4a88-44a1-8dcb-6b27606933e2",
   "metadata": {},
   "outputs": [
    {
     "name": "stderr",
     "output_type": "stream",
     "text": [
      "Parsing files:  77%|███████▋  | 30/39 [07:10<02:27, 16.42s/it]"
     ]
    },
    {
     "name": "stdout",
     "output_type": "stream",
     "text": [
      "Error while parsing the file './data\\Market Report_15 April 2024.pdf': Failed to parse the file: {\"detail\":\"You've exceeded the maximum number of pages you can parse in a day (1000). Please contact support to increase your limit.\"}\n"
     ]
    },
    {
     "name": "stderr",
     "output_type": "stream",
     "text": [
      "Parsing files:  82%|████████▏ | 32/39 [07:14<01:02,  8.94s/it]"
     ]
    },
    {
     "name": "stdout",
     "output_type": "stream",
     "text": [
      "Error while parsing the file './data\\Market Report_09 May 2024.pdf': Failed to parse the file: {\"detail\":\"You've exceeded the maximum number of pages you can parse in a day (1000). Please contact support to increase your limit.\"}\n"
     ]
    },
    {
     "name": "stderr",
     "output_type": "stream",
     "text": [
      "Parsing files:  85%|████████▍ | 33/39 [07:21<00:50,  8.47s/it]"
     ]
    },
    {
     "name": "stdout",
     "output_type": "stream",
     "text": [
      "Error while parsing the file './data\\Market Report_21 May 2024.pdf': Failed to parse the file: {\"detail\":\"You've exceeded the maximum number of pages you can parse in a day (1000). Please contact support to increase your limit.\"}\n"
     ]
    },
    {
     "name": "stderr",
     "output_type": "stream",
     "text": [
      "Parsing files:  87%|████████▋ | 34/39 [07:27<00:37,  7.52s/it]"
     ]
    },
    {
     "name": "stdout",
     "output_type": "stream",
     "text": [
      "Error while parsing the file './data\\Market Report_22 March  2024.pdf': Failed to parse the file: {\"detail\":\"You've exceeded the maximum number of pages you can parse in a day (1000). Please contact support to increase your limit.\"}\n"
     ]
    },
    {
     "name": "stderr",
     "output_type": "stream",
     "text": [
      "Parsing files:  90%|████████▉ | 35/39 [07:30<00:25,  6.25s/it]"
     ]
    },
    {
     "name": "stdout",
     "output_type": "stream",
     "text": [
      "Error while parsing the file './data\\Market Report_02 May 2024.pdf': Failed to parse the file: {\"detail\":\"You've exceeded the maximum number of pages you can parse in a day (1000). Please contact support to increase your limit.\"}\n"
     ]
    },
    {
     "name": "stderr",
     "output_type": "stream",
     "text": [
      "Parsing files:  95%|█████████▍| 37/39 [07:38<00:10,  5.29s/it]"
     ]
    },
    {
     "name": "stdout",
     "output_type": "stream",
     "text": [
      "Error while parsing the file './data\\Market Report_18 April 2024.pdf': Failed to parse the file: {\"detail\":\"You've exceeded the maximum number of pages you can parse in a day (1000). Please contact support to increase your limit.\"}\n"
     ]
    },
    {
     "name": "stderr",
     "output_type": "stream",
     "text": [
      "Parsing files: 100%|██████████| 39/39 [11:27<00:00, 17.64s/it]\n"
     ]
    }
   ],
   "source": [
    "documents_gpt4o = parser_gpt4o.load_data(pdf_files)"
   ]
  },
  {
   "cell_type": "code",
   "execution_count": 70,
   "id": "44e3573a-0563-4912-a8d1-53b0582057c0",
   "metadata": {},
   "outputs": [
    {
     "name": "stdout",
     "output_type": "stream",
     "text": [
      "# Market Report for Tuesday, 02 April 2024\n",
      "\n",
      "DSE recorded a total turnover of TZS 521.18 Mln from 229,969 shares traded in 226 deals; and TZS 9.21 Bln from bond traded in 5 deals.\n",
      "\n",
      "On the Block Trade Pre-Arranged Market board, TBL counter-traded a block of 50,000 shares.\n",
      "\n",
      "On the normal board, CRDB counter had 125,086 shares traded at a weighted average price of TZS 550 per share in 151 deals. DCB counter had 150 shares traded at a weighted average price of TZS 140 per share in 1 deal. DSE counter had 477 shares traded at a weighted average price of TZS 1,840 per share in 9 deals. MBP counter had 160 shares traded at a weighted average price of TZS 305 per share in 1 deal. NICO counter had 13,376 shares traded at a weighted average price of TZS 660 per share in 14 deals. NMB counter had 30,340 shares traded at a weighted average price of TZS 4,780 per share in 13 deals. PAL counter had 60 shares traded at a weighted average price of TZS 360 per share in 3 deals. SWISS counter had 300 shares traded at a weighted average price of TZS 1,100 per share in 1 deal. TCCL counter had 160 shares traded at a weighted average price of TZS 2,300 per share in 3 deals. TICL counter had 8,174 shares traded at a weighted average price of TZS 195 per share in 23 deals. TPCC counter had 1,646 shares traded at a weighted average price of TZS 4,320 per share in 4 deals. VODA counter had 40 shares traded at a weighted average price of TZS 740 per share in 2 deals.\n",
      "\n",
      "On the Government Bonds Board, a 20-year bond with a coupon rate of 15.49% and a face value of TZS 8.29 Bln was traded at prices of 100.0000%, 102.0026%, 102.2001%, 102.7559% and 111.6506% in 5 deals.\n",
      "On the Corporate Bonds Board, a 3-year bond with a coupon rate of 8.50% and a face value of TZS 2.00 Mln was traded at a price of 88.0400% in 1 deal.\n",
      "\n",
      "| Company | BIDS | OFFERS | TRADES |\n",
      "|---------|------|--------|--------|\n",
      "|         | Outstanding | Price | Outstanding | Price | Shares Traded | Turnover (TZS) | Market Cap (Bln) | Last Price |\n",
      "| CRDB    | 113,931 | 550 | 12,908 | 560 | 125,086 | 69,405,970 | 1,462.63 | 560 |\n",
      "| DCB     | 10 | 120 | 39,015 | 140 | 150 | 21,000 | 12.70 | 130 |\n",
      "| DSE     | - | - | 1,933 | 1,820 | 477 | 876,480 | 43.36 | 1,820 |\n",
      "| JATU    | - | - | 400 | 265 | - | - | 5.81 | 265 |\n",
      "| MBP     | - | - | 5,312 | 305 | 160 | 48,800 | 8.06 | 305 |\n",
      "| MCB     | - | - | 1,470 | 300 | - | - | 19.17 | 300 |\n",
      "| MKCB    | - | - | 153 | 630 | - | - | 18.37 | 630 |\n",
      "| MUCOBA  | - | - | 13,920 | 400 | - | - | 13.07 | 400 |\n",
      "| NICO    | 53,760 | 660 | - | - | 13,376 | 8,840,760 | 45.66 | 660 |\n",
      "| NMB     | 82 | 4,760 | 30 | 4,780 | 30,340 | 145,030,780 | 2,390.00 | 4,780 |\n",
      "| PAL     | - | - | 11,335 | 360 | 60 | 21,600 | 5.77 | 360 |\n",
      "| SWISS   | - | - | 6,375 | 1,100 | 300 | 330,000 | 39.60 | 1,100 |\n",
      "| TBL     | - | - | 19,110 | 10,400 | 50,000 | 287,500,000 | 3,216.11 | 5,750 |\n",
      "| TCC     | - | - | 27,156 | 16,200 | - | - | 16,200.00 | 16,200 |\n",
      "| TCCL    | 10 | 2,100 | 1,807 | 2,300 | 160 | 368,000 | 146.44 | 2,300 |\n",
      "| TICL    | 1,150 | 190 | 32,192 | 195 | 8,174 | 1,593,930 | 14.23 | 195 |\n",
      "| TOL     | 10 | 660 | - | - | - | - | 39.06 | 660 |\n",
      "| TPCC    | 1,119 | 4,300 | 12,563 | 4,320 | 1,646 | 71,100,720 | 777.27 | 4,320 |\n",
      "| TTP     | 40 | 120 | - | - | - | - | 11.41 | 120 |\n",
      "| VODA    | - | - | 324,841 | 740 | 40 | 29,600 | 1,724.80 | 740 |\n",
      "---\n",
      "# MARKET SUMMARY\n",
      "\n",
      "| Indices | 02 April 2024 |\n",
      "|---------|--------------|\n",
      "| TSI     | 4,442.80     |\n",
      "|         | -19.49       |\n",
      "| DSEI    | 1,784.06     |\n",
      "|         | -6.18        |\n",
      "\n",
      "# GAINERS & LOSERS\n",
      "\n",
      "| Company | Price | Change |\n",
      "|---------|-------|--------|\n",
      "| NICO    | 660   | 1.54   |\n",
      "| CRDB    | 550   | -3.51  |\n",
      "| TPCC    | 4,300 | -0.46  |\n",
      "\n",
      "# TRADING STATISTICS\n",
      "\n",
      "|                          |                |\n",
      "|--------------------------|----------------|\n",
      "| Market Cap (Bln)         | 14,890.41      |\n",
      "| Equity Turnover          | 521,177,640.00 |\n",
      "| Total Volume             | 229,969        |\n",
      "| Total Deals              | 226            |\n",
      "\n",
      "# TOP MOVERS\n",
      "\n",
      "| Company | Price | Volume  |\n",
      "|---------|-------|---------|\n",
      "| CRDB    | 570   | 125,086 |\n",
      "| TBL     | 10,900| 50,000  |\n",
      "| NMB     | 4,780 | 30,340  |\n",
      "\n",
      "# EXCHANGE RATE\n",
      "\n",
      "| CURRENCY | BUYING   | SELLING  |\n",
      "|----------|----------|----------|\n",
      "| KES      | 19.4816  | 19.5273  |\n",
      "| USD      | 2552.0891| 2577.6100|\n",
      "| ZAR      | 135.2989 | 136.6265 |\n",
      "\n",
      "# CORPORATE BONDS\n",
      "\n",
      "| Bond               | Maturity (Years) | Coupon Rate | Due Date     | Remarks                |\n",
      "|--------------------|------------------|-------------|--------------|------------------------|\n",
      "| NMB JASIRI BOND    | 3                | 8.5%        | March 2025   | Interest is quarterly  |\n",
      "| FURSA SUKUK BOND   | 3                | 8.75%       | December 2025| Interest is quarterly  |\n",
      "| NMB JAMII BOND     | 3                | 9.50%       | October 2026 | Interest is quarterly  |\n",
      "| NBC TWIGA BOND     | 5                | 10%         | December 2027| Interest is semi-annual|\n",
      "| TMRC BOND          | 5                | 10.20%      | May 2028     | Interest is semi-annual|\n",
      "| CRDB KIJANI BOND   | 5                | 10.25%      | October 2028 | Interest is semi-annual|\n",
      "\n",
      "# GOVERNMENT BONDS\n",
      "\n",
      "| Maturity (Years) | Current Yield % | Previous Yield % | Remarks                                      |\n",
      "|------------------|------------------|------------------|----------------------------------------------|\n",
      "| 2                | 0.0000           | 11.6412          | 7.60% - 2024/26 Issue No.341 held 10.01.2024 |\n",
      "| 5                | 10.0922          | 9.6670           | 8.60% - 2023/28 Issue No.86 held 03.08.2023  |\n",
      "| 7                | 9.4633           | 9.3348           | 9.48% - 2022/29 Issue No.83 held 30.03.2022  |\n",
      "| 10               | 11.8775          | 11.5067          | 11.44% - 2023/33 Issue No.342 held 04.10.2023|\n",
      "| 15               | 13.6552          | 12.7525          | 11.15% - 2024/39 Issue No.55 held 07.02.2024 |\n",
      "| 20               | 15.5130          | 13.5125          | 15.49% - 2019/39 Issue No.04 held 20.03.2024 |\n",
      "| 25               | 16.7857          | 14.3854          | 15.95% - 2021/46 Issue No.03 held 06.03.2024 |\n",
      "\n",
      "[http://www.bot.go.tz]\n",
      "\n",
      "# Treasury Bills Auction Results Summary: 27 March 2024\n",
      "\n",
      "|                  | 35 days | 91 days | 182 days | 364 days  |\n",
      "|------------------|---------|---------|----------|-----------|\n",
      "| Offered (000,000)| 900.0000| 1,900.0000| 2,900.0000| 79,120.0000|\n",
      "| Tendered (000,000)| 900.0000| 2,900.0000| 4,000.0000| 368,131.2000|\n",
      "| Over ( - ) / Under ( + ) (000,000)| 0.0000| -1,000.0000| -1,100.0000| -289,011.2000|\n",
      "| Successful (000,000)| 900.0000| 1,900.0000| 2,900.0000| 182,571.2000|\n",
      "| Current (WAY) %: 27.03.2024| 5.9320| 8.1418| 8.5723| 11.5656|\n",
      "| Previous (WAY) %: 13.03.2024| 5.9320| 8.1882| 8.6471| 12.0735|\n",
      "\n",
      "[The auction is usually conducted bi-weekly on Wednesdays. Information thereof will be updated once results are made available]\n",
      "---\n",
      "\n",
      "# UPCOMING TREASURY BOND & TREASURY BILLS AUCTION\n",
      "\n",
      "## 1. Treasury Bond: 25 Years Fixed Rate (Re-Opening)\n",
      "\n",
      "| Amount (Bln) TZS | Auction Date | Interest Payment Date | Coupon | Redemption | Trading |\n",
      "|------------------|--------------|-----------------------|--------|------------|---------|\n",
      "| 149              | 03 April 2024 | 03 February 05 August | 15.95% | 05 August 2046 | 03 April 2024 |\n",
      "\n",
      "## 2. Treasury Bills: 10 April 2023\n",
      "\n",
      "| Amount (Mln) TZS | Maturities | Remarks |\n",
      "|------------------|------------|---------|\n",
      "| 900              | 35 days    | All maturities will be sold at this auction on behalf of the Union Government of Tanzania. |\n",
      "| 1,900            | 91 days    |         |\n",
      "| 2,900            | 182 days   |         |\n",
      "| 79,120           | 364 days   |         |\n",
      "\n",
      "[Interest income is subject to 10% withholding tax]\n",
      "\n",
      "## UNIT TRUST OF TANZANIA – ASSET MANAGEMENT & INVESTOR SERVICES: 28 March 2024\n",
      "\n",
      "| FUND TYPE | Sale Price per Unit | Repurchase Price per Unit |\n",
      "|-----------|---------------------|---------------------------|\n",
      "| UMOJA     | 1,006.8175          | 996.7494                  |\n",
      "| WEKEZA    | 884.5232            | 866.8327                  |\n",
      "| WATOTO    | 648.9500            | 642.4605                  |\n",
      "| JIKIMU    | 172.2141            | 168.7698                  |\n",
      "| LIQUID    | 393.2130            | 393.2130                  |\n",
      "| BOND      | 116.7778            | 116.7778                  |\n",
      "\n",
      "[http://www.uttamis.co.tz]\n",
      "\n",
      "## WATUMISHI HOUSING INVESTMENT: 28 March 2024\n",
      "\n",
      "| FUND TYPE | Sale Price per Unit | Repurchase Price per Unit |\n",
      "|-----------|---------------------|---------------------------|\n",
      "| FAIDA     | 112.9776            | 112.9776                  |\n",
      "\n",
      "[https://www.whi.go.tz/]\n",
      "\n",
      "For further information, please contact SOLOMON Stockbrokers Limited: 2124495 / 2112874 / 0764 269090 / 0714 269090\n",
      "\n",
      "---\n",
      "\n",
      "All care has been taken in preparing this commercial document, and the information contained therein has been derived from sources believed to be accurate and reliable. If you have any questions about the contents of this document, do not hesitate to contact us through our telephone numbers above and below or any other convenient electronic means, including all our official social media platforms. SOLOMON Stockbrokers Limited does not assume responsibility for any error, omission, or opinion expressed. Anyone acting on the information or opinion does so at his own risk. This report has been sent to you for your information and may not be reproduced. Unauthorized use or disclosure of this document is strictly prohibited. © Copyright 2024 SOLOMON Stockbrokers Limited. All rights reserved.\n",
      "\n",
      "---\n",
      "\n",
      "**SOLOMON Stockbrokers**\n",
      "\n",
      "A Member of Dar es Salaam Stock Exchange & Authorized Dealer of Government Securities\n",
      "\n",
      "**PROFILE**\n",
      "\n",
      "The Company is licensed as Stockbrokers / Dealers, Investment Advisors and Fund Managers by the Capital Markets and Securities Authority (CMSA). SOLOMON is licensed as a Primary Dealer of Government Securities by the Bank of Tanzania (BoT).\n",
      "\n",
      "**Contact Information:**\n",
      "\n",
      "PSSSF House, Ground Floor  \n",
      "Samora Avenue / Morogoro Road  \n",
      "P.O. Box 77049  \n",
      "Dar es Salaam  \n",
      "+255 764 269090  \n",
      "+255 714 269090  \n",
      "solomonstockbrokers@solomon.co.tz  \n",
      "[www.solomon.co.tz](http://www.solomon.co.tz)\n",
      "\n",
      "@stockbrokers  \n",
      "#elimuYaUwekezajiHisa\n",
      "\n",
      "---\n",
      "NO_CONTENT_HERE\n"
     ]
    }
   ],
   "source": [
    "print(documents_gpt4o[0].get_content())"
   ]
  },
  {
   "cell_type": "code",
   "execution_count": 71,
   "id": "bf1f7c6e-3415-42dc-bb5e-a8f4d41ff2f0",
   "metadata": {},
   "outputs": [],
   "source": [
    "from copy import deepcopy\n",
    "from llama_index.core.schema import TextNode\n",
    "from llama_index.core import VectorStoreIndex\n",
    "\n",
    "\n",
    "def get_nodes(docs):\n",
    "    \"\"\"Split docs into nodes, by separator.\"\"\"\n",
    "    nodes = []\n",
    "    for doc in docs:\n",
    "        doc_chunks = doc.text.split(\"\\n---\\n\")\n",
    "        for doc_chunk in doc_chunks:\n",
    "            node = TextNode(\n",
    "                text=doc_chunk,\n",
    "                metadata=deepcopy(doc.metadata),\n",
    "            )\n",
    "            nodes.append(node)\n",
    "\n",
    "    return nodes"
   ]
  },
  {
   "cell_type": "code",
   "execution_count": 72,
   "id": "19b156d3-a885-4d9f-90ec-cff70e73a202",
   "metadata": {},
   "outputs": [],
   "source": [
    "# this will split into pages\n",
    "nodes = get_nodes(documents_gpt4o)"
   ]
  },
  {
   "cell_type": "code",
   "execution_count": 73,
   "id": "ad435205-2beb-451b-a6b1-1fd8c13a93e3",
   "metadata": {},
   "outputs": [],
   "source": [
    "vector_index = VectorStoreIndex(nodes)"
   ]
  },
  {
   "cell_type": "code",
   "execution_count": 74,
   "id": "71f0761d-9924-494c-a090-ed040eaa69ca",
   "metadata": {},
   "outputs": [],
   "source": [
    "query_engine = vector_index.as_query_engine(similarity_top_k=6)"
   ]
  },
  {
   "cell_type": "code",
   "execution_count": 75,
   "id": "90a1af9c-6697-4efc-a46d-168e73d7e16c",
   "metadata": {},
   "outputs": [],
   "source": [
    "response = query_engine.query(\n",
    "    \"Corporate Bonds Board, a 5-year bond?\"\n",
    ")"
   ]
  },
  {
   "cell_type": "code",
   "execution_count": 76,
   "id": "71d4b00f-9b72-4ff6-a1db-44b0c10a1cd4",
   "metadata": {},
   "outputs": [
    {
     "name": "stdout",
     "output_type": "stream",
     "text": [
      "Corporate Bonds Board does not have information on a 5-year bond in the provided context.\n"
     ]
    }
   ],
   "source": [
    "print(str(response))"
   ]
  },
  {
   "cell_type": "code",
   "execution_count": 77,
   "id": "1e2b6dfa-b09f-47fc-947b-d071c550ea8e",
   "metadata": {},
   "outputs": [
    {
     "name": "stdout",
     "output_type": "stream",
     "text": [
      "{\n",
      "    \"date\": [\"03 April 2024\", \"08 March 2024\", \"16 April 2024\", \"24 April 2024\", \"25 April 2024\"],\n",
      "    \"price\": [560, 540, 540, 550, 560]\n",
      "}\n"
     ]
    }
   ],
   "source": [
    "response = query_engine.query(\n",
    "    \"What is the price offer for CRDB for all days from 01 April to 21 May. Output in json {'date': date , 'price':price}?\"\n",
    ")\n",
    "print(str(response))"
   ]
  },
  {
   "cell_type": "code",
   "execution_count": 78,
   "id": "5925f77d-5619-41f2-bc02-df41d4039a5f",
   "metadata": {},
   "outputs": [],
   "source": [
    "import json\n",
    "import re\n",
    "import matplotlib.pyplot as plt\n",
    "from datetime import datetime"
   ]
  },
  {
   "cell_type": "code",
   "execution_count": 79,
   "id": "51a0be98-3228-49ad-b326-8f47ed8f244f",
   "metadata": {},
   "outputs": [],
   "source": [
    "# Use regular expressions to find all JSON objects in the string\n",
    "json_objects = re.findall(r'\\{[^}]+\\}', str(response))\n",
    "\n",
    "# Parse each JSON object and convert it to a dictionary\n",
    "data_list = [json.loads(json_obj) for json_obj in json_objects]"
   ]
  },
  {
   "cell_type": "code",
   "execution_count": 80,
   "id": "02a3970f-3140-4bb2-aad1-1ae790d651a2",
   "metadata": {},
   "outputs": [
    {
     "ename": "TypeError",
     "evalue": "strptime() argument 1 must be str, not list",
     "output_type": "error",
     "traceback": [
      "\u001b[1;31m---------------------------------------------------------------------------\u001b[0m",
      "\u001b[1;31mTypeError\u001b[0m                                 Traceback (most recent call last)",
      "Cell \u001b[1;32mIn[80], line 2\u001b[0m\n\u001b[0;32m      1\u001b[0m \u001b[38;5;66;03m# Convert date strings to datetime objects and sort the data\u001b[39;00m\n\u001b[1;32m----> 2\u001b[0m sorted_data \u001b[38;5;241m=\u001b[39m \u001b[38;5;28;43msorted\u001b[39;49m\u001b[43m(\u001b[49m\u001b[43mdata_list\u001b[49m\u001b[43m,\u001b[49m\u001b[43m \u001b[49m\u001b[43mkey\u001b[49m\u001b[38;5;241;43m=\u001b[39;49m\u001b[38;5;28;43;01mlambda\u001b[39;49;00m\u001b[43m \u001b[49m\u001b[43mx\u001b[49m\u001b[43m:\u001b[49m\u001b[43m \u001b[49m\u001b[43mdatetime\u001b[49m\u001b[38;5;241;43m.\u001b[39;49m\u001b[43mstrptime\u001b[49m\u001b[43m(\u001b[49m\u001b[43mx\u001b[49m\u001b[43m[\u001b[49m\u001b[38;5;124;43m'\u001b[39;49m\u001b[38;5;124;43mdate\u001b[39;49m\u001b[38;5;124;43m'\u001b[39;49m\u001b[43m]\u001b[49m\u001b[43m,\u001b[49m\u001b[43m \u001b[49m\u001b[38;5;124;43m'\u001b[39;49m\u001b[38;5;132;43;01m%d\u001b[39;49;00m\u001b[38;5;124;43m \u001b[39;49m\u001b[38;5;124;43m%\u001b[39;49m\u001b[38;5;124;43mb \u001b[39;49m\u001b[38;5;124;43m%\u001b[39;49m\u001b[38;5;124;43mY\u001b[39;49m\u001b[38;5;124;43m'\u001b[39;49m\u001b[43m)\u001b[49m\u001b[43m)\u001b[49m\n\u001b[0;32m      4\u001b[0m \u001b[38;5;66;03m# Extract sorted dates and prices\u001b[39;00m\n\u001b[0;32m      5\u001b[0m dates \u001b[38;5;241m=\u001b[39m [datetime\u001b[38;5;241m.\u001b[39mstrptime(item[\u001b[38;5;124m'\u001b[39m\u001b[38;5;124mdate\u001b[39m\u001b[38;5;124m'\u001b[39m], \u001b[38;5;124m'\u001b[39m\u001b[38;5;132;01m%d\u001b[39;00m\u001b[38;5;124m \u001b[39m\u001b[38;5;124m%\u001b[39m\u001b[38;5;124mb \u001b[39m\u001b[38;5;124m%\u001b[39m\u001b[38;5;124mY\u001b[39m\u001b[38;5;124m'\u001b[39m) \u001b[38;5;28;01mfor\u001b[39;00m item \u001b[38;5;129;01min\u001b[39;00m sorted_data]\n",
      "Cell \u001b[1;32mIn[80], line 2\u001b[0m, in \u001b[0;36m<lambda>\u001b[1;34m(x)\u001b[0m\n\u001b[0;32m      1\u001b[0m \u001b[38;5;66;03m# Convert date strings to datetime objects and sort the data\u001b[39;00m\n\u001b[1;32m----> 2\u001b[0m sorted_data \u001b[38;5;241m=\u001b[39m \u001b[38;5;28msorted\u001b[39m(data_list, key\u001b[38;5;241m=\u001b[39m\u001b[38;5;28;01mlambda\u001b[39;00m x: \u001b[43mdatetime\u001b[49m\u001b[38;5;241;43m.\u001b[39;49m\u001b[43mstrptime\u001b[49m\u001b[43m(\u001b[49m\u001b[43mx\u001b[49m\u001b[43m[\u001b[49m\u001b[38;5;124;43m'\u001b[39;49m\u001b[38;5;124;43mdate\u001b[39;49m\u001b[38;5;124;43m'\u001b[39;49m\u001b[43m]\u001b[49m\u001b[43m,\u001b[49m\u001b[43m \u001b[49m\u001b[38;5;124;43m'\u001b[39;49m\u001b[38;5;132;43;01m%d\u001b[39;49;00m\u001b[38;5;124;43m \u001b[39;49m\u001b[38;5;124;43m%\u001b[39;49m\u001b[38;5;124;43mb \u001b[39;49m\u001b[38;5;124;43m%\u001b[39;49m\u001b[38;5;124;43mY\u001b[39;49m\u001b[38;5;124;43m'\u001b[39;49m\u001b[43m)\u001b[49m)\n\u001b[0;32m      4\u001b[0m \u001b[38;5;66;03m# Extract sorted dates and prices\u001b[39;00m\n\u001b[0;32m      5\u001b[0m dates \u001b[38;5;241m=\u001b[39m [datetime\u001b[38;5;241m.\u001b[39mstrptime(item[\u001b[38;5;124m'\u001b[39m\u001b[38;5;124mdate\u001b[39m\u001b[38;5;124m'\u001b[39m], \u001b[38;5;124m'\u001b[39m\u001b[38;5;132;01m%d\u001b[39;00m\u001b[38;5;124m \u001b[39m\u001b[38;5;124m%\u001b[39m\u001b[38;5;124mb \u001b[39m\u001b[38;5;124m%\u001b[39m\u001b[38;5;124mY\u001b[39m\u001b[38;5;124m'\u001b[39m) \u001b[38;5;28;01mfor\u001b[39;00m item \u001b[38;5;129;01min\u001b[39;00m sorted_data]\n",
      "\u001b[1;31mTypeError\u001b[0m: strptime() argument 1 must be str, not list"
     ]
    }
   ],
   "source": [
    "# Convert date strings to datetime objects and sort the data\n",
    "sorted_data = sorted(data_list, key=lambda x: datetime.strptime(x['date'], '%d %b %Y'))\n",
    "\n",
    "# Extract sorted dates and prices\n",
    "dates = [datetime.strptime(item['date'], '%d %b %Y') for item in sorted_data]\n",
    "prices = [item['price'] for item in sorted_data]\n",
    "\n",
    "# Plot the data\n",
    "plt.figure(figsize=(10, 5))\n",
    "# plt.plot(dates, prices, marker='o', linestyle='-', color='b')\n",
    "plt.scatter(dates, prices, marker='o', linestyle='-', color='b')\n",
    "\n",
    "# Formatting the plot\n",
    "plt.xlabel('Date')\n",
    "plt.ylabel('Price')\n",
    "plt.title('Date vs Price')\n",
    "plt.grid(True)\n",
    "plt.gcf().autofmt_xdate()  # Auto-format date labels\n",
    "plt.show()"
   ]
  }
 ],
 "metadata": {
  "kernelspec": {
   "display_name": "Python 3 (ipykernel)",
   "language": "python",
   "name": "python3"
  },
  "language_info": {
   "codemirror_mode": {
    "name": "ipython",
    "version": 3
   },
   "file_extension": ".py",
   "mimetype": "text/x-python",
   "name": "python",
   "nbconvert_exporter": "python",
   "pygments_lexer": "ipython3",
   "version": "3.10.13"
  }
 },
 "nbformat": 4,
 "nbformat_minor": 5
}
