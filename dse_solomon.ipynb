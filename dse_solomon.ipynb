{
 "cells": [
  {
   "cell_type": "code",
   "execution_count": null,
   "id": "0cf14e98-278b-4637-a73b-2eb3fd5d54f2",
   "metadata": {},
   "outputs": [],
   "source": [
    "# %pip install llama_index"
   ]
  },
  {
   "cell_type": "code",
   "execution_count": null,
   "id": "7c597892-db96-4a52-b77b-0258af7f0568",
   "metadata": {},
   "outputs": [],
   "source": [
    "# %pip install -U llama-index\n",
    "# %pip install -U llama-index-core\n",
    "# # %pip install llama-index-embeddings-openai\n",
    "# %pip install llama-index-postprocessor-flag-embedding-reranker\n",
    "# %pip install git+https://github.com/FlagOpen/FlagEmbedding.git\n",
    "# %pip install -U llama-parse\n",
    "# %pip install -U llama-index-llms-llama-cpp\n",
    "# %pip install -U llama-index-core-llms\n",
    "# %pip install -U llama-index-embeddings-openai"
   ]
  },
  {
   "cell_type": "code",
   "execution_count": 1,
   "id": "f9841bd3-69da-4370-8bfe-c6412c256b76",
   "metadata": {},
   "outputs": [],
   "source": [
    "# llama-parse is async-first, running the async code in a notebook requires the use of nest_asyncio\n",
    "import nest_asyncio\n",
    "\n",
    "nest_asyncio.apply()\n",
    "\n",
    "import os\n",
    "\n",
    "# API access to llama-cloud\n",
    "os.environ[\"LLAMA_CLOUD_API_KEY\"] = \"llx-SyHQUKzf4guxK5aU1QnzURVVl4sbQ4pqX5QzFh7SXhytaj8N\"\n",
    "\n",
    "# Using OpenAI API for embeddings/llms\n",
    "os.environ[\"OPENAI_API_KEY\"] = \"sk-proj-Q0eWC0bJfIIaLkIGOaHOT3BlbkFJcAPgSc2VZCGKEPVJVtzI\""
   ]
  },
  {
   "cell_type": "code",
   "execution_count": 2,
   "id": "320c031f-aec4-49a0-8ac1-27cdcbc16991",
   "metadata": {},
   "outputs": [],
   "source": [
    "from llama_parse import LlamaParse\n",
    "\n",
    "parser_gpt4o = LlamaParse(\n",
    "    result_type=\"markdown\",\n",
    "    # api_key=api_key,\n",
    "    gpt4o_mode=True,\n",
    "    # gpt4o_api_key=\"<gpt4o_api_key>\"\n",
    ")"
   ]
  },
  {
   "cell_type": "code",
   "execution_count": 47,
   "id": "53a8920d-cb67-430a-8adf-9ce5e3f914e9",
   "metadata": {},
   "outputs": [
    {
     "data": {
      "text/plain": [
       "['./data\\\\Market Report_14 May 2024.pdf',\n",
       " './data\\\\Market Report_15 May 2024.pdf',\n",
       " './data\\\\Market Report_16 May 2024.pdf',\n",
       " './data\\\\Market Report_17 May 2024.pdf',\n",
       " './data\\\\Market Report_20 May 2024.pdf',\n",
       " './data\\\\Market Report_21 May 2024.pdf']"
      ]
     },
     "execution_count": 47,
     "metadata": {},
     "output_type": "execute_result"
    }
   ],
   "source": [
    "import os\n",
    "import glob\n",
    "\n",
    "# Define the folder containing the PDF files\n",
    "data_folder = './data/'\n",
    "\n",
    "# Use glob to find all PDF files in the folder\n",
    "pdf_files = glob.glob(os.path.join(data_folder, '*.pdf'))\n",
    "pdf_files"
   ]
  },
  {
   "cell_type": "code",
   "execution_count": 48,
   "id": "312a0803-4a88-44a1-8dcb-6b27606933e2",
   "metadata": {},
   "outputs": [
    {
     "name": "stderr",
     "output_type": "stream",
     "text": [
      "Parsing files: 100%|██████████| 6/6 [00:56<00:00,  9.42s/it]\n"
     ]
    }
   ],
   "source": [
    "documents_gpt4o = parser_gpt4o.load_data(pdf_files)"
   ]
  },
  {
   "cell_type": "code",
   "execution_count": 49,
   "id": "44e3573a-0563-4912-a8d1-53b0582057c0",
   "metadata": {},
   "outputs": [
    {
     "name": "stdout",
     "output_type": "stream",
     "text": [
      "# SOLOMON Stockbrokers Limited\n",
      "**Member of Dar es Salaam Stock Exchange**  \n",
      "**Authorized Dealer of Government Securities**  \n",
      "[www.solomon.co.tz](http://www.solomon.co.tz)  \n",
      "**e-Market Report**\n",
      "\n",
      "**Wednesday, May 15, 2024**\n",
      "\n",
      "---\n",
      "\n",
      "## Market Report for Tuesday, 14 May 2024\n",
      "\n",
      "DSE recorded a total turnover of TZS 745.59 Mln from 279,686 shares traded in 153 deals and TZS 34.91 Bln from bonds traded in 13 deals.\n",
      "\n",
      "On the Block Trade Pre-arranged Market board, NMB counter traded a block of 100,000 shares.\n",
      "\n",
      "On the Normal Board, CRDB counter had 122,379 shares traded at a weighted average price of TZS 520 per share in 86 deals. DCB counter had 1,293 shares traded at a weighted average price of TZS 120 per share in 8 deals. MBP counter had 10 shares traded at a weighted average price of TZS 300 per share in 1 deal. NICO counter had 9,336 shares traded at a weighted average price of TZS 770 per share in 23 deals. NMB counter had 131,126 shares traded at a weighted average price of TZS 4,960 per share in 5 deals. TBL counter had 20 shares traded at a weighted average price of TZS 10,400 per share in 1 deal. TCCL counter had 12,350 shares traded at a weighted average price of TZS 1,900 per share in 11 deals. TICL counter had 2,931 shares traded at a weighted average price of TZS 190 per share in 11 deals. TTP counter had 211 shares traded at a weighted average price of TZS 120 per share in 4 deals. VODA counter had 30 shares traded at a weighted average price of TZS 740 per share in 3 deals.\n",
      "\n",
      "On the Government Bonds Board, a 15-year bond with a coupon rate of 13.50% and a face value of TZS 27.44 Bln was traded at prices of 118.6138%, 121.6077% and 124.6109% in 3 deals, while a 20-year bond with a coupon rate of 15.49% and a face value of TZS 0.42 Bln was traded at prices of 100.0000%, 101.0000%, 102.0000%, 103.2600%, 106.2500%, 108.9011%, 111.4549% in 8 deals. The market also traded a 25-year bond with a coupon rate of 12.56% and a face value of TZS 0.01 Bln at 90.0000% in 1 deal, while a 25-year bond with a coupon rate of 15.95% and a face value of TZS 1.00 Bln was traded at a price of 119.6473% in 1 deal.\n",
      "\n",
      "| BIDS | OFFERS | TRADED |\n",
      "|------|--------|--------|\n",
      "| Company | Outstanding | Price | Outstanding | Price | Shares Traded | Turnover (TZS) | Market Cap (Bln) | Last Price |\n",
      "|--------|-------------|-------|-------------|-------|----------------|----------------|------------------|------------|\n",
      "| CRDB   | -           | -     | 692,615     | 520   | 122,379        | 63,637,080     | 1,358.16         | 520        |\n",
      "| DCB    | -           | -     | 196,677     | 120   | 1,293          | 155,160        | 11.72            | 120        |\n",
      "| DSE    | 87          | 1,860 | -           | -     | -              | -              | 47.65            | 2,000      |\n",
      "| JATU   | -           | -     | 5,652       | 240   | -              | -              | 5.81             | 265        |\n",
      "| MBP    | -           | -     | 58,457      | 300   | 10             | 3,000          | 7.93             | 300        |\n",
      "| MCB    | -           | -     | -           | -     | -              | -              | 19.78            | 320        |\n",
      "| MKCB   | -           | -     | 940         | 630   | -              | -              | 18.37            | 630        |\n",
      "| MUCOBA | -           | -     | 10,170      | 400   | -              | -              | 13.07            | 380        |\n",
      "| NICO   | 4           | 750   | 18,891      | 800   | 9,336          | 7,230,100      | 53.27            | 770        |\n",
      "| NMB    | 9,563       | 4,860 | -           | -     | 131,126        | 650,272,360    | 2,480.00         | 4,960      |\n",
      "| PAL    | -           | -     | 2,915       | 360   | -              | -              | 57.77            | 360        |\n",
      "| SWISS  | 100         | 900   | -           | -     | -              | -              | 36.00            | 1,000      |\n",
      "| TBL    | -           | -     | 12,378      | 10,400| 20             | 208,000        | 3,216.11         | 10,400     |\n",
      "| TCC    | -           | -     | 14,739      | 16,200| -              | -              | 1,700.00         | 16,200     |\n",
      "| TCCL   | 3,000       | 1,800 | 3,798       | 1,900 | 12,350         | 23,475,800     | 120.97           | 1,900      |\n",
      "| TICL   | 10,637      | 185   | 265,847     | 190   | 2,931          | 556,740        | 13.88            | 190        |\n",
      "| TOL    | 539         | 690   | -           | -     | -              | -              | 40.83            | 690        |\n",
      "| TPCC   | 3,144       | 4,300 | -           | -     | -              | -              | 773.67           | 4,300      |\n",
      "| TTP    | -           | -     | 2,669       | 120   | 211            | 25,320         | 11.41            | 120        |\n",
      "| VODA   | -           | -     | 89,153      | 740   | 30             | 22,200         | 1,724.80         | 740        |\n",
      "---\n",
      "# MARKET SUMMARY\n",
      "\n",
      "| Indices | 14 May 2024 | Change |\n",
      "|---------|-------------|--------|\n",
      "| TSI     | 4,444.01    | +21.34 |\n",
      "| DSEI    | 1,784.45    | +6.77  |\n",
      "\n",
      "# GAINERS & LOSERS\n",
      "\n",
      "| Company | Price | Change |\n",
      "|---------|-------|--------|\n",
      "| CRDB    | 520   | -3.70  |\n",
      "| NICO    | 770   | -2.53  |\n",
      "| NMB     | 4,960 | +4.64  |\n",
      "\n",
      "# TRADING STATISTICS\n",
      "\n",
      "| Metric          | Value          |\n",
      "|-----------------|----------------|\n",
      "| Market Cap (Bln)| 14,894.44      |\n",
      "| Equity Turnover | 40,613,440.00  |\n",
      "| Total Volume    | 48,692         |\n",
      "| Total Deals     | 159            |\n",
      "\n",
      "# TOP MOVERS\n",
      "\n",
      "| Company | Price | Volume |\n",
      "|---------|-------|--------|\n",
      "| CRDB    | 540   | 79,754 |\n",
      "| TCCL    | 1,900 | 6,500  |\n",
      "| NICO    | 790   | 5,734  |\n",
      "\n",
      "# EXCHANGE RATE\n",
      "\n",
      "| CURRENCY | BUYING    | SELLING   |\n",
      "|----------|-----------|-----------|\n",
      "| KES      | 19.8034   | 19.8487   |\n",
      "| USD      | 2,574.4356| 2,600.1800|\n",
      "| ZAR      | 139.6811  | 141.0581  |\n",
      "\n",
      "# CORPORATE BONDS\n",
      "\n",
      "| Bond              | Maturity (Years) | Coupon Rate | Due Date     | Remarks                |\n",
      "|-------------------|------------------|-------------|--------------|------------------------|\n",
      "| NMB JASIRI BOND   | 3                | 8.5%        | March 2025   | Interest is quarterly  |\n",
      "| FURSA SUKUK BOND  | 3                | 8.75%       | December 2025| Interest is quarterly  |\n",
      "| NMB JAMII BOND    | 5                | 9.50%       | October 2026 | Interest is quarterly  |\n",
      "| NBC TWIGA BOND    | 5                | 10%         | December 2027| Interest is semi-annual|\n",
      "| TMRC BOND         | 5                | 10.20%      | May 2028     | Interest is semi-annual|\n",
      "| CRDB KIJANI BOND  | 5                | 10.25%      | October 2028 | Interest is semi-annual|\n",
      "\n",
      "# GOVERNMENT BONDS\n",
      "\n",
      "| Maturity (Years) | Current Yield % | Previous Yield % | Remarks                                      |\n",
      "|------------------|-----------------|------------------|----------------------------------------------|\n",
      "| 2                | 0.0000          | 11.6462          | 7.60% - 2024/26 Issue No.341 held 10.01.2024 |\n",
      "| 5                | 10.0922         | 9.6670           | 8.60% - 2023/28 Issue No.86 held 03.08.2023  |\n",
      "| 7                | 9.4633          | 9.3348           | 9.48% - 2022/29 Issue No.83 held 30.03.2022  |\n",
      "| 10               | 11.3268         | 11.8775          | 11.44% - 2023/33 Issue No.307 held 17.04.2024|\n",
      "| 15               | 13.6552         | 12.7525          | 11.15% - 2024/39 Issue No.55 held 07.02.2024 |\n",
      "| 20               | 15.2430         | 15.5130          | 15.49% - 2020/40 Issue No.14 held 30.04.2024 |\n",
      "| 25               | 16.1290         | 16.7857          | 15.95% - 2021/46 Issue No.02 held 03.04.2024 |\n",
      "\n",
      "[http://www.bot.go.tz]\n",
      "\n",
      "# Treasury Bills Auction Results Summary: 05 May 2024\n",
      "\n",
      "|                  | 35 days | 91 days | 182 days | 364 days   |\n",
      "|------------------|---------|---------|----------|------------|\n",
      "| Offered (000,000)| 900.000 | 1,900.000| 2,900.000| 79,120.000 |\n",
      "| Tendered (000,000)| 0.0000 | 0.0000  | 0.0000   | 244,895.700|\n",
      "| Over (+) / Under (-) (000,000)| 0.0000 | 0.0000  | 0.0000   | -165,775.700|\n",
      "| Successful (000,000)| 0.0000 | 0.0000| 0.0000   | 48,500.000 |\n",
      "| Current (WAY) %: 08.05.2024| 0.0000 | 0.0000   | 0.0000    | 8.6137     |\n",
      "| Previous (WAY) %: 24.04.2024| 0.0000 | 8.0713  | 8.4501    | 9.9564     |\n",
      "\n",
      "*The auction is usually conducted bi-weekly on Wednesdays. Information thereof will be updated once results are made available*\n",
      "---\n",
      "# UPCOMING TREASURY BOND & TREASURY BILLS AUCTION\n",
      "\n",
      "## 1. Treasury Bond: 10 Years Fixed Rate (Re-Opening)\n",
      "\n",
      "| Amount (Bln) TZS | Auction Date | Interest Payment Date | Coupon | Redemption | Trading |\n",
      "|------------------|--------------|-----------------------|--------|------------|---------|\n",
      "| 70.00            | 15 May 2024  | 21 May <br> 21 November | 11.44% | 21 November 2029 | 15 May 2024 |\n",
      "\n",
      "## 2. Treasury Bills: 22 May 2023\n",
      "\n",
      "| Amount (Mln) TZS | Maturities | Remarks |\n",
      "|------------------|------------|---------|\n",
      "| 900              | 35 days    | All maturities will be sold at this auction on behalf of the Union Government of Tanzania. |\n",
      "| 1,900            | 91 days    | |\n",
      "| 2,900            | 182 days   | |\n",
      "| 79,120           | 364 days   | |\n",
      "\n",
      "[Interest income is subject to 10% withholding tax]\n",
      "\n",
      "## UNIT TRUST OF TANZANIA – ASSET MANAGEMENT & INVESTOR SERVICES: 13 May 2024\n",
      "\n",
      "| FUND TYPE | Sale Price per Unit | Repurchase Price per Unit |\n",
      "|-----------|---------------------|---------------------------|\n",
      "| UMOJA     | 1,022.7748          | 1,012.5471                |\n",
      "| WEKEZA    | 895.7246            | 877.8101                  |\n",
      "| WATOTO    | 657.5544            | 650.9789                  |\n",
      "| JIKIMU    | 171.2000            | 167.7760                  |\n",
      "| LIQUID    | 400.7414            | 400.7414                  |\n",
      "| BOND      | 116.3821            | 116.3821                  |\n",
      "\n",
      "[http://www.uttamis.co.tz]\n",
      "\n",
      "## WATUMISHI HOUSING INVESTMENT: 14 May 2024\n",
      "\n",
      "| FUND TYPE | Sale Price per Unit | Repurchase Price per Unit |\n",
      "|-----------|---------------------|---------------------------|\n",
      "| FAIDA     | 114.4264            | 114.4264                  |\n",
      "\n",
      "[https://www.whi.go.tz/]\n",
      "\n",
      "For further information, please contact SOLOMON Stockbrokers Limited: 2124495 / 2112874 / 0764 269090 / 0714 269090\n",
      "\n",
      "---\n",
      "\n",
      "All care has been taken in preparing this commercial document, and the information contained therein has been derived from sources believed to be accurate and reliable. If you have any questions about the contents of this document, do not hesitate to contact us through our telephone numbers above and below or any other convenient electronic means, including all our official social media platforms. SOLOMON Stockbrokers Limited does not assume responsibility for any error, omission, or opinion expressed. Anyone acting on the information or opinion does so at his own risk. This report has been sent to you for your information and may not be reproduced. Unauthorized use or disclosure of this document is strictly prohibited. © Copyright 2024 SOLOMON Stockbrokers Limited. All rights reserved.\n",
      "\n",
      "---\n",
      "\n",
      "SOLOMON Stockbrokers\n",
      "\n",
      "A Member of Dar es Salaam Stock Exchange & Authorized Dealer of Government Securities\n",
      "\n",
      "**PROFILE**\n",
      "\n",
      "- The Company is licensed as Stockbrokers / Dealers, Investment Advisers and Fund Managers by the Capital Markets and Securities Authority (CMSA). SOLOMON is licensed as a Primary Dealer of Government Securities by the Bank of Tanzania (BoT).\n",
      "\n",
      "**Contact Information:**\n",
      "\n",
      "PSSSF House, Ground Floor  \n",
      "Samora Avenue / Morogoro Road  \n",
      "P.O. Box 77049  \n",
      "Dar es Salaam  \n",
      "+255 764 269090  \n",
      "+255 714 269090  \n",
      "solomonstockbrokers@solomon.co.tz  \n",
      "[www.solomon.co.tz](http://www.solomon.co.tz)\n",
      "\n",
      "@stockbrokers  \n",
      "#elimuYaUwekezajiHisa\n"
     ]
    }
   ],
   "source": [
    "print(documents_gpt4o[0].get_content())"
   ]
  },
  {
   "cell_type": "code",
   "execution_count": 50,
   "id": "bf1f7c6e-3415-42dc-bb5e-a8f4d41ff2f0",
   "metadata": {},
   "outputs": [],
   "source": [
    "from copy import deepcopy\n",
    "from llama_index.core.schema import TextNode\n",
    "from llama_index.core import VectorStoreIndex\n",
    "\n",
    "\n",
    "def get_nodes(docs):\n",
    "    \"\"\"Split docs into nodes, by separator.\"\"\"\n",
    "    nodes = []\n",
    "    for doc in docs:\n",
    "        doc_chunks = doc.text.split(\"\\n---\\n\")\n",
    "        for doc_chunk in doc_chunks:\n",
    "            node = TextNode(\n",
    "                text=doc_chunk,\n",
    "                metadata=deepcopy(doc.metadata),\n",
    "            )\n",
    "            nodes.append(node)\n",
    "\n",
    "    return nodes"
   ]
  },
  {
   "cell_type": "code",
   "execution_count": 51,
   "id": "19b156d3-a885-4d9f-90ec-cff70e73a202",
   "metadata": {},
   "outputs": [],
   "source": [
    "# this will split into pages\n",
    "nodes = get_nodes(documents_gpt4o)"
   ]
  },
  {
   "cell_type": "code",
   "execution_count": 52,
   "id": "ad435205-2beb-451b-a6b1-1fd8c13a93e3",
   "metadata": {},
   "outputs": [],
   "source": [
    "vector_index = VectorStoreIndex(nodes)"
   ]
  },
  {
   "cell_type": "code",
   "execution_count": 53,
   "id": "71f0761d-9924-494c-a090-ed040eaa69ca",
   "metadata": {},
   "outputs": [],
   "source": [
    "query_engine = vector_index.as_query_engine(similarity_top_k=6)"
   ]
  },
  {
   "cell_type": "code",
   "execution_count": 54,
   "id": "90a1af9c-6697-4efc-a46d-168e73d7e16c",
   "metadata": {},
   "outputs": [],
   "source": [
    "response = query_engine.query(\n",
    "    \"Corporate Bonds Board, a 5-year bond?\"\n",
    ")"
   ]
  },
  {
   "cell_type": "code",
   "execution_count": 55,
   "id": "71d4b00f-9b72-4ff6-a1db-44b0c10a1cd4",
   "metadata": {},
   "outputs": [
    {
     "name": "stdout",
     "output_type": "stream",
     "text": [
      "Corporate Bonds Board does not have information on a 5-year bond in the provided context.\n"
     ]
    }
   ],
   "source": [
    "print(str(response))"
   ]
  },
  {
   "cell_type": "code",
   "execution_count": 57,
   "id": "1e2b6dfa-b09f-47fc-947b-d071c550ea8e",
   "metadata": {},
   "outputs": [
    {
     "name": "stdout",
     "output_type": "stream",
     "text": [
      "{\n",
      "    \"date\": \"14 May 2024\",\n",
      "    \"price\": 520\n",
      "},\n",
      "{\n",
      "    \"date\": \"15 May 2024\",\n",
      "    \"price\": 500\n",
      "},\n",
      "{\n",
      "    \"date\": \"16 May 2024\",\n",
      "    \"price\": 500\n",
      "},\n",
      "{\n",
      "    \"date\": \"17 May 2024\",\n",
      "    \"price\": 490\n",
      "},\n",
      "{\n",
      "    \"date\": \"20 May 2024\",\n",
      "    \"price\": 480\n",
      "},\n",
      "{\n",
      "    \"date\": \"21 May 2024\",\n",
      "    \"price\": 480\n",
      "}\n"
     ]
    }
   ],
   "source": [
    "response = query_engine.query(\n",
    "    \"What is the price offer for CRDB for all days from 14 may to 21 May. Output in json {'date': date , 'price':price}?\"\n",
    ")\n",
    "print(str(response))"
   ]
  },
  {
   "cell_type": "code",
   "execution_count": 58,
   "id": "5925f77d-5619-41f2-bc02-df41d4039a5f",
   "metadata": {},
   "outputs": [],
   "source": [
    "import json\n",
    "import re\n",
    "import matplotlib.pyplot as plt\n",
    "from datetime import datetime"
   ]
  },
  {
   "cell_type": "code",
   "execution_count": 62,
   "id": "51a0be98-3228-49ad-b326-8f47ed8f244f",
   "metadata": {},
   "outputs": [],
   "source": [
    "# Use regular expressions to find all JSON objects in the string\n",
    "json_objects = re.findall(r'\\{[^}]+\\}', str(response))\n",
    "\n",
    "# Parse each JSON object and convert it to a dictionary\n",
    "data_list = [json.loads(json_obj) for json_obj in json_objects]"
   ]
  },
  {
   "cell_type": "code",
   "execution_count": 64,
   "id": "02a3970f-3140-4bb2-aad1-1ae790d651a2",
   "metadata": {},
   "outputs": [
    {
     "data": {
      "image/png": "[encoded data removed]",
      "text/plain": [
       "<Figure size 1000x500 with 1 Axes>"
      ]
     },
     "metadata": {},
     "output_type": "display_data"
    }
   ],
   "source": [
    "# Convert date strings to datetime objects and sort the data\n",
    "sorted_data = sorted(data_list, key=lambda x: datetime.strptime(x['date'], '%d %b %Y'))\n",
    "\n",
    "# Extract sorted dates and prices\n",
    "dates = [datetime.strptime(item['date'], '%d %b %Y') for item in sorted_data]\n",
    "prices = [item['price'] for item in sorted_data]\n",
    "\n",
    "# Plot the data\n",
    "plt.figure(figsize=(10, 5))\n",
    "# plt.plot(dates, prices, marker='o', linestyle='-', color='b')\n",
    "plt.scatter(dates, prices, marker='o', linestyle='-', color='b')\n",
    "\n",
    "# Formatting the plot\n",
    "plt.xlabel('Date')\n",
    "plt.ylabel('Price')\n",
    "plt.title('Date vs Price')\n",
    "plt.grid(True)\n",
    "plt.gcf().autofmt_xdate()  # Auto-format date labels\n",
    "plt.show()"
   ]
  }
 ],
 "metadata": {
  "kernelspec": {
   "display_name": "Python 3 (ipykernel)",
   "language": "python",
   "name": "python3"
  },
  "language_info": {
   "codemirror_mode": {
    "name": "ipython",
    "version": 3
   },
   "file_extension": ".py",
   "mimetype": "text/x-python",
   "name": "python",
   "nbconvert_exporter": "python",
   "pygments_lexer": "ipython3",
   "version": "3.10.13"
  }
 },
 "nbformat": 4,
 "nbformat_minor": 5
}
