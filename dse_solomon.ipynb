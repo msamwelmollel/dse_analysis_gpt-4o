{
 "cells": [
  {
   "cell_type": "code",
   "execution_count": 98,
   "id": "7c597892-db96-4a52-b77b-0258af7f0568",
   "metadata": {},
   "outputs": [],
   "source": [
    "# %pip install -U llama-index\n",
    "# %pip install -U llama-index-core\n",
    "# %pip install llama-index-embeddings-openai\n",
    "# %pip install llama-index-postprocessor-flag-embedding-reranker\n",
    "# %pip install git+https://github.com/FlagOpen/FlagEmbedding.git\n",
    "# %pip install -U llama-parse\n",
    "# %pip install -U llama-index-llms-llama-cpp\n",
    "# %pip install -U llama-index-core-llms\n",
    "# %pip install -U llama-index-embeddings-openai"
   ]
  },
  {
   "cell_type": "code",
   "execution_count": 99,
   "id": "f9841bd3-69da-4370-8bfe-c6412c256b76",
   "metadata": {},
   "outputs": [],
   "source": [
    "# llama-parse is async-first, running the async code in a notebook requires the use of nest_asyncio\n",
    "import nest_asyncio\n",
    "\n",
    "nest_asyncio.apply()\n",
    "\n",
    "import os\n",
    "\n",
    "# API access to llama-cloud\n",
    "os.environ[\"LLAMA_CLOUD_API_KEY\"] = \"llx-SyHQUKzf4guxK5aU1QnzURVVl4sbQ4pqX5QzFh7SXhytaj8N\"\n",
    "\n",
    "# Using OpenAI API for embeddings/llms\n",
    "os.environ[\"OPENAI_API_KEY\"] = \"sk-proj-Q0eWC0bJfIIaLkIGOaHOT3BlbkFJcAPgSc2VZCGKEPVJVtzI\""
   ]
  },
  {
   "cell_type": "code",
   "execution_count": 100,
   "id": "320c031f-aec4-49a0-8ac1-27cdcbc16991",
   "metadata": {},
   "outputs": [],
   "source": [
    "from llama_parse import LlamaParse\n",
    "\n",
    "parser_gpt4o = LlamaParse(\n",
    "    result_type=\"markdown\",\n",
    "    # api_key=api_key,\n",
    "    gpt4o_mode=True,\n",
    "    # gpt4o_api_key=\"<gpt4o_api_key>\"\n",
    ")"
   ]
  },
  {
   "cell_type": "code",
   "execution_count": 101,
   "id": "53a8920d-cb67-430a-8adf-9ce5e3f914e9",
   "metadata": {},
   "outputs": [
    {
     "data": {
      "text/plain": [
       "['./data\\\\Market Report_02 May 2024.pdf',\n",
       " './data\\\\Market Report_03 May 2024.pdf',\n",
       " './data\\\\Market Report_06 May 2024.pdf',\n",
       " './data\\\\Market Report_07 May 2024.pdf',\n",
       " './data\\\\Market Report_08 May 2024.pdf',\n",
       " './data\\\\Market Report_09 May 2024.pdf',\n",
       " './data\\\\Market Report_10 May 2024.pdf',\n",
       " './data\\\\Market Report_13 May 2024.pdf',\n",
       " './data\\\\Market Report_14 May 2024.pdf',\n",
       " './data\\\\Market Report_15 May 2024.pdf',\n",
       " './data\\\\Market Report_16 April 2024.pdf',\n",
       " './data\\\\Market Report_16 May 2024.pdf',\n",
       " './data\\\\Market Report_17 May 2024.pdf',\n",
       " './data\\\\Market Report_20 May 2024.pdf',\n",
       " './data\\\\Market Report_21 May 2024.pdf']"
      ]
     },
     "execution_count": 101,
     "metadata": {},
     "output_type": "execute_result"
    }
   ],
   "source": [
    "import os\n",
    "import glob\n",
    "\n",
    "# Define the folder containing the PDF files\n",
    "data_folder = './data/'\n",
    "\n",
    "# Use glob to find all PDF files in the folder\n",
    "pdf_files = glob.glob(os.path.join(data_folder, '*.pdf'))\n",
    "pdf_files"
   ]
  },
  {
   "cell_type": "code",
   "execution_count": 102,
   "id": "312a0803-4a88-44a1-8dcb-6b27606933e2",
   "metadata": {},
   "outputs": [
    {
     "name": "stderr",
     "output_type": "stream",
     "text": [
      "Parsing files:   0%|          | 0/15 [00:00<?, ?it/s]"
     ]
    },
    {
     "name": "stdout",
     "output_type": "stream",
     "text": [
      "Error while parsing the file './data\\Market Report_17 May 2024.pdf': Failed to parse the file: {\"detail\":\"You've exceeded the maximum number of pages you can parse in a day (1000). Please contact support to increase your limit.\"}\n"
     ]
    },
    {
     "name": "stderr",
     "output_type": "stream",
     "text": [
      "Parsing files:   7%|▋         | 1/15 [00:03<00:54,  3.92s/it]"
     ]
    },
    {
     "name": "stdout",
     "output_type": "stream",
     "text": [
      "Error while parsing the file './data\\Market Report_10 May 2024.pdf': Failed to parse the file: {\"detail\":\"You've exceeded the maximum number of pages you can parse in a day (1000). Please contact support to increase your limit.\"}\n",
      "Error while parsing the file './data\\Market Report_13 May 2024.pdf': Failed to parse the file: {\"detail\":\"You've exceeded the maximum number of pages you can parse in a day (1000). Please contact support to increase your limit.\"}\n"
     ]
    },
    {
     "name": "stderr",
     "output_type": "stream",
     "text": [
      "Parsing files:  13%|█▎        | 2/15 [00:04<00:28,  2.19s/it]"
     ]
    },
    {
     "name": "stdout",
     "output_type": "stream",
     "text": [
      "Error while parsing the file './data\\Market Report_07 May 2024.pdf': Failed to parse the file: {\"detail\":\"You've exceeded the maximum number of pages you can parse in a day (1000). Please contact support to increase your limit.\"}\n"
     ]
    },
    {
     "name": "stderr",
     "output_type": "stream",
     "text": [
      "Parsing files:  27%|██▋       | 4/15 [00:07<00:17,  1.63s/it]"
     ]
    },
    {
     "name": "stdout",
     "output_type": "stream",
     "text": [
      "Error while parsing the file './data\\Market Report_09 May 2024.pdf': Failed to parse the file: {\"detail\":\"You've exceeded the maximum number of pages you can parse in a day (1000). Please contact support to increase your limit.\"}\n"
     ]
    },
    {
     "name": "stderr",
     "output_type": "stream",
     "text": [
      "Parsing files:  33%|███▎      | 5/15 [00:07<00:12,  1.24s/it]"
     ]
    },
    {
     "name": "stdout",
     "output_type": "stream",
     "text": [
      "Error while parsing the file './data\\Market Report_02 May 2024.pdf': Failed to parse the file: {\"detail\":\"You've exceeded the maximum number of pages you can parse in a day (1000). Please contact support to increase your limit.\"}\n"
     ]
    },
    {
     "name": "stderr",
     "output_type": "stream",
     "text": [
      "Parsing files:  40%|████      | 6/15 [00:10<00:16,  1.81s/it]"
     ]
    },
    {
     "name": "stdout",
     "output_type": "stream",
     "text": [
      "Error while parsing the file './data\\Market Report_06 May 2024.pdf': Failed to parse the file: {\"detail\":\"You've exceeded the maximum number of pages you can parse in a day (1000). Please contact support to increase your limit.\"}\n"
     ]
    },
    {
     "name": "stderr",
     "output_type": "stream",
     "text": [
      "Parsing files:  47%|████▋     | 7/15 [00:12<00:15,  1.88s/it]"
     ]
    },
    {
     "name": "stdout",
     "output_type": "stream",
     "text": [
      "Error while parsing the file './data\\Market Report_21 May 2024.pdf': Failed to parse the file: {\"detail\":\"You've exceeded the maximum number of pages you can parse in a day (1000). Please contact support to increase your limit.\"}\n"
     ]
    },
    {
     "name": "stderr",
     "output_type": "stream",
     "text": [
      "Parsing files:  53%|█████▎    | 8/15 [00:13<00:10,  1.57s/it]"
     ]
    },
    {
     "name": "stdout",
     "output_type": "stream",
     "text": [
      "Error while parsing the file './data\\Market Report_16 May 2024.pdf': Failed to parse the file: {\"detail\":\"You've exceeded the maximum number of pages you can parse in a day (1000). Please contact support to increase your limit.\"}\n"
     ]
    },
    {
     "name": "stderr",
     "output_type": "stream",
     "text": [
      "Parsing files:  60%|██████    | 9/15 [00:15<00:08,  1.44s/it]"
     ]
    },
    {
     "name": "stdout",
     "output_type": "stream",
     "text": [
      "Error while parsing the file './data\\Market Report_14 May 2024.pdf': Failed to parse the file: {\"detail\":\"You've exceeded the maximum number of pages you can parse in a day (1000). Please contact support to increase your limit.\"}\n"
     ]
    },
    {
     "name": "stderr",
     "output_type": "stream",
     "text": [
      "Parsing files:  67%|██████▋   | 10/15 [00:15<00:05,  1.15s/it]"
     ]
    },
    {
     "name": "stdout",
     "output_type": "stream",
     "text": [
      "Error while parsing the file './data\\Market Report_03 May 2024.pdf': Failed to parse the file: {\"detail\":\"You've exceeded the maximum number of pages you can parse in a day (1000). Please contact support to increase your limit.\"}\n"
     ]
    },
    {
     "name": "stderr",
     "output_type": "stream",
     "text": [
      "Parsing files:  80%|████████  | 12/15 [00:16<00:02,  1.09it/s]"
     ]
    },
    {
     "name": "stdout",
     "output_type": "stream",
     "text": [
      "Error while parsing the file './data\\Market Report_20 May 2024.pdf': Failed to parse the file: {\"detail\":\"You've exceeded the maximum number of pages you can parse in a day (1000). Please contact support to increase your limit.\"}\n"
     ]
    },
    {
     "name": "stderr",
     "output_type": "stream",
     "text": [
      "Parsing files:  87%|████████▋ | 13/15 [00:17<00:01,  1.14it/s]"
     ]
    },
    {
     "name": "stdout",
     "output_type": "stream",
     "text": [
      "Error while parsing the file './data\\Market Report_08 May 2024.pdf': Failed to parse the file: {\"detail\":\"You've exceeded the maximum number of pages you can parse in a day (1000). Please contact support to increase your limit.\"}\n"
     ]
    },
    {
     "name": "stderr",
     "output_type": "stream",
     "text": [
      "Parsing files: 100%|██████████| 15/15 [00:18<00:00,  1.22s/it]"
     ]
    },
    {
     "name": "stdout",
     "output_type": "stream",
     "text": [
      "Error while parsing the file './data\\Market Report_15 May 2024.pdf': Failed to parse the file: {\"detail\":\"You've exceeded the maximum number of pages you can parse in a day (1000). Please contact support to increase your limit.\"}\n",
      "Error while parsing the file './data\\Market Report_16 April 2024.pdf': Failed to parse the file: {\"detail\":\"You've exceeded the maximum number of pages you can parse in a day (1000). Please contact support to increase your limit.\"}\n"
     ]
    },
    {
     "name": "stderr",
     "output_type": "stream",
     "text": [
      "\n"
     ]
    }
   ],
   "source": [
    "documents_gpt4o = parser_gpt4o.load_data(pdf_files)"
   ]
  },
  {
   "cell_type": "code",
   "execution_count": 103,
   "id": "44e3573a-0563-4912-a8d1-53b0582057c0",
   "metadata": {},
   "outputs": [
    {
     "ename": "IndexError",
     "evalue": "list index out of range",
     "output_type": "error",
     "traceback": [
      "\u001b[1;31m---------------------------------------------------------------------------\u001b[0m",
      "\u001b[1;31mIndexError\u001b[0m                                Traceback (most recent call last)",
      "Cell \u001b[1;32mIn[103], line 1\u001b[0m\n\u001b[1;32m----> 1\u001b[0m \u001b[38;5;28mprint\u001b[39m(\u001b[43mdocuments_gpt4o\u001b[49m\u001b[43m[\u001b[49m\u001b[38;5;241;43m0\u001b[39;49m\u001b[43m]\u001b[49m\u001b[38;5;241m.\u001b[39mget_content())\n",
      "\u001b[1;31mIndexError\u001b[0m: list index out of range"
     ]
    }
   ],
   "source": [
    "print(documents_gpt4o[0].get_content())"
   ]
  },
  {
   "cell_type": "code",
   "execution_count": 104,
   "id": "bf1f7c6e-3415-42dc-bb5e-a8f4d41ff2f0",
   "metadata": {},
   "outputs": [],
   "source": [
    "from copy import deepcopy\n",
    "from llama_index.core.schema import TextNode\n",
    "from llama_index.core import VectorStoreIndex\n",
    "\n",
    "\n",
    "def get_nodes(docs):\n",
    "    \"\"\"Split docs into nodes, by separator.\"\"\"\n",
    "    nodes = []\n",
    "    for doc in docs:\n",
    "        doc_chunks = doc.text.split(\"\\n---\\n\")\n",
    "        for doc_chunk in doc_chunks:\n",
    "            node = TextNode(\n",
    "                text=doc_chunk,\n",
    "                metadata=deepcopy(doc.metadata),\n",
    "            )\n",
    "            nodes.append(node)\n",
    "\n",
    "    return nodes"
   ]
  },
  {
   "cell_type": "code",
   "execution_count": 105,
   "id": "19b156d3-a885-4d9f-90ec-cff70e73a202",
   "metadata": {},
   "outputs": [],
   "source": [
    "# this will split into pages\n",
    "nodes = get_nodes(documents_gpt4o)"
   ]
  },
  {
   "cell_type": "code",
   "execution_count": 106,
   "id": "ad435205-2beb-451b-a6b1-1fd8c13a93e3",
   "metadata": {},
   "outputs": [],
   "source": [
    "vector_index = VectorStoreIndex(nodes)"
   ]
  },
  {
   "cell_type": "code",
   "execution_count": 107,
   "id": "71f0761d-9924-494c-a090-ed040eaa69ca",
   "metadata": {},
   "outputs": [],
   "source": [
    "query_engine = vector_index.as_query_engine(similarity_top_k=10)"
   ]
  },
  {
   "cell_type": "code",
   "execution_count": 108,
   "id": "90a1af9c-6697-4efc-a46d-168e73d7e16c",
   "metadata": {},
   "outputs": [],
   "source": [
    "response = query_engine.query(\n",
    "    \"Corporate Bonds Board, a 5-year bond?\"\n",
    ")"
   ]
  },
  {
   "cell_type": "code",
   "execution_count": 109,
   "id": "71d4b00f-9b72-4ff6-a1db-44b0c10a1cd4",
   "metadata": {},
   "outputs": [
    {
     "name": "stdout",
     "output_type": "stream",
     "text": [
      "Empty Response\n"
     ]
    }
   ],
   "source": [
    "print(str(response))"
   ]
  },
  {
   "cell_type": "code",
   "execution_count": 110,
   "id": "1e2b6dfa-b09f-47fc-947b-d071c550ea8e",
   "metadata": {},
   "outputs": [
    {
     "name": "stdout",
     "output_type": "stream",
     "text": [
      "Empty Response\n"
     ]
    }
   ],
   "source": [
    "response = query_engine.query(\"What are the prices offered for CRDB in all days in May 2024? Output should be in the json as follow {{'date': date , 'price':price}, {'date': date , 'price':price}}?\")\n",
    "print(str(response))"
   ]
  },
  {
   "cell_type": "code",
   "execution_count": null,
   "id": "5925f77d-5619-41f2-bc02-df41d4039a5f",
   "metadata": {},
   "outputs": [],
   "source": [
    "import json\n",
    "import re\n",
    "import matplotlib.pyplot as plt\n",
    "from datetime import datetime"
   ]
  },
  {
   "cell_type": "code",
   "execution_count": null,
   "id": "51a0be98-3228-49ad-b326-8f47ed8f244f",
   "metadata": {},
   "outputs": [],
   "source": [
    "# Use regular expressions to find all JSON objects in the string\n",
    "json_objects = re.findall(r'\\{[^}]+\\}', str(response))\n",
    "\n",
    "# Parse each JSON object and convert it to a dictionary\n",
    "data_list = [json.loads(json_obj) for json_obj in json_objects]"
   ]
  },
  {
   "cell_type": "code",
   "execution_count": null,
   "id": "02a3970f-3140-4bb2-aad1-1ae790d651a2",
   "metadata": {},
   "outputs": [],
   "source": [
    "# Convert date strings to datetime objects and sort the data\n",
    "sorted_data = sorted(data_list, key=lambda x: datetime.strptime(x['date'], '%d %b %Y'))\n",
    "\n",
    "# Extract sorted dates and prices\n",
    "dates = [datetime.strptime(item['date'], '%d %b %Y') for item in sorted_data]\n",
    "prices = [item['price'] for item in sorted_data]\n",
    "\n",
    "# Plot the data\n",
    "plt.figure(figsize=(10, 5))\n",
    "# plt.plot(dates, prices, marker='o', linestyle='-', color='b')\n",
    "plt.scatter(dates, prices, marker='o', linestyle='-', color='b')\n",
    "\n",
    "# Formatting the plot\n",
    "plt.xlabel('Date')\n",
    "plt.ylabel('Price')\n",
    "plt.title('Date vs Price')\n",
    "plt.grid(True)\n",
    "plt.gcf().autofmt_xdate()  # Auto-format date labels\n",
    "plt.show()"
   ]
  }
 ],
 "metadata": {
  "kernelspec": {
   "display_name": "Python 3 (ipykernel)",
   "language": "python",
   "name": "python3"
  },
  "language_info": {
   "codemirror_mode": {
    "name": "ipython",
    "version": 3
   },
   "file_extension": ".py",
   "mimetype": "text/x-python",
   "name": "python",
   "nbconvert_exporter": "python",
   "pygments_lexer": "ipython3",
   "version": "3.10.13"
  }
 },
 "nbformat": 4,
 "nbformat_minor": 5
}
